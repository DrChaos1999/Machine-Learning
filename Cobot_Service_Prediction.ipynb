{
 "cells": [
  {
   "cell_type": "code",
   "execution_count": 2,
   "id": "1581be1e",
   "metadata": {},
   "outputs": [],
   "source": [
    "import pandas as pd"
   ]
  },
  {
   "cell_type": "code",
   "execution_count": 3,
   "id": "6287ca37",
   "metadata": {},
   "outputs": [],
   "source": [
    "df=pd.read_csv(r\"G:\\AI\\Assignment\\cobotops\\cobot_data.csv\")"
   ]
  },
  {
   "cell_type": "code",
   "execution_count": 4,
   "id": "ad621f3b",
   "metadata": {},
   "outputs": [
    {
     "data": {
      "text/html": [
       "<div>\n",
       "<style scoped>\n",
       "    .dataframe tbody tr th:only-of-type {\n",
       "        vertical-align: middle;\n",
       "    }\n",
       "\n",
       "    .dataframe tbody tr th {\n",
       "        vertical-align: top;\n",
       "    }\n",
       "\n",
       "    .dataframe thead th {\n",
       "        text-align: right;\n",
       "    }\n",
       "</style>\n",
       "<table border=\"1\" class=\"dataframe\">\n",
       "  <thead>\n",
       "    <tr style=\"text-align: right;\">\n",
       "      <th></th>\n",
       "      <th>Num</th>\n",
       "      <th>Timestamp</th>\n",
       "      <th>Current_J0</th>\n",
       "      <th>Temperature_T0</th>\n",
       "      <th>Current_J1</th>\n",
       "      <th>Temperature_J1</th>\n",
       "      <th>Current_J2</th>\n",
       "      <th>Temperature_J2</th>\n",
       "      <th>Current_J3</th>\n",
       "      <th>Temperature_J3</th>\n",
       "      <th>...</th>\n",
       "      <th>Unnamed: 25</th>\n",
       "      <th>Unnamed: 26</th>\n",
       "      <th>Unnamed: 27</th>\n",
       "      <th>Unnamed: 28</th>\n",
       "      <th>Unnamed: 29</th>\n",
       "      <th>Unnamed: 30</th>\n",
       "      <th>Unnamed: 31</th>\n",
       "      <th>Unnamed: 32</th>\n",
       "      <th>Unnamed: 33</th>\n",
       "      <th>Unnamed: 34</th>\n",
       "    </tr>\n",
       "  </thead>\n",
       "  <tbody>\n",
       "    <tr>\n",
       "      <th>0</th>\n",
       "      <td>1</td>\n",
       "      <td>2022-10-26T08:17:21.847Z</td>\n",
       "      <td>0.109628</td>\n",
       "      <td>27.8750</td>\n",
       "      <td>-2.024669</td>\n",
       "      <td>29.3750</td>\n",
       "      <td>-1.531442</td>\n",
       "      <td>29.3750</td>\n",
       "      <td>-0.998570</td>\n",
       "      <td>32.1250</td>\n",
       "      <td>...</td>\n",
       "      <td>NaN</td>\n",
       "      <td>NaN</td>\n",
       "      <td>NaN</td>\n",
       "      <td>NaN</td>\n",
       "      <td>NaN</td>\n",
       "      <td>NaN</td>\n",
       "      <td>NaN</td>\n",
       "      <td>NaN</td>\n",
       "      <td>NaN</td>\n",
       "      <td>NaN</td>\n",
       "    </tr>\n",
       "    <tr>\n",
       "      <th>1</th>\n",
       "      <td>2</td>\n",
       "      <td>2022-10-26T08:17:22.852Z</td>\n",
       "      <td>0.595605</td>\n",
       "      <td>27.8750</td>\n",
       "      <td>-2.278456</td>\n",
       "      <td>29.3125</td>\n",
       "      <td>-0.866556</td>\n",
       "      <td>29.4375</td>\n",
       "      <td>-0.206097</td>\n",
       "      <td>32.1875</td>\n",
       "      <td>...</td>\n",
       "      <td>NaN</td>\n",
       "      <td>NaN</td>\n",
       "      <td>NaN</td>\n",
       "      <td>NaN</td>\n",
       "      <td>NaN</td>\n",
       "      <td>NaN</td>\n",
       "      <td>NaN</td>\n",
       "      <td>NaN</td>\n",
       "      <td>NaN</td>\n",
       "      <td>NaN</td>\n",
       "    </tr>\n",
       "    <tr>\n",
       "      <th>2</th>\n",
       "      <td>3</td>\n",
       "      <td>2022-10-26T08:17:23.857Z</td>\n",
       "      <td>-0.229474</td>\n",
       "      <td>27.8750</td>\n",
       "      <td>-2.800408</td>\n",
       "      <td>29.3125</td>\n",
       "      <td>-2.304336</td>\n",
       "      <td>29.4375</td>\n",
       "      <td>-0.351499</td>\n",
       "      <td>32.1250</td>\n",
       "      <td>...</td>\n",
       "      <td>NaN</td>\n",
       "      <td>NaN</td>\n",
       "      <td>NaN</td>\n",
       "      <td>NaN</td>\n",
       "      <td>NaN</td>\n",
       "      <td>NaN</td>\n",
       "      <td>NaN</td>\n",
       "      <td>NaN</td>\n",
       "      <td>NaN</td>\n",
       "      <td>NaN</td>\n",
       "    </tr>\n",
       "    <tr>\n",
       "      <th>3</th>\n",
       "      <td>4</td>\n",
       "      <td>2022-10-26T08:17:24.863Z</td>\n",
       "      <td>0.065053</td>\n",
       "      <td>27.8750</td>\n",
       "      <td>-3.687768</td>\n",
       "      <td>29.3125</td>\n",
       "      <td>-1.217652</td>\n",
       "      <td>29.4375</td>\n",
       "      <td>-1.209115</td>\n",
       "      <td>32.1250</td>\n",
       "      <td>...</td>\n",
       "      <td>NaN</td>\n",
       "      <td>NaN</td>\n",
       "      <td>NaN</td>\n",
       "      <td>NaN</td>\n",
       "      <td>NaN</td>\n",
       "      <td>NaN</td>\n",
       "      <td>NaN</td>\n",
       "      <td>NaN</td>\n",
       "      <td>NaN</td>\n",
       "      <td>NaN</td>\n",
       "    </tr>\n",
       "    <tr>\n",
       "      <th>4</th>\n",
       "      <td>5</td>\n",
       "      <td>2022-10-26T08:17:25.877Z</td>\n",
       "      <td>0.884140</td>\n",
       "      <td>27.8750</td>\n",
       "      <td>-2.938830</td>\n",
       "      <td>29.3750</td>\n",
       "      <td>-1.794076</td>\n",
       "      <td>29.4375</td>\n",
       "      <td>-2.356471</td>\n",
       "      <td>32.1875</td>\n",
       "      <td>...</td>\n",
       "      <td>NaN</td>\n",
       "      <td>NaN</td>\n",
       "      <td>NaN</td>\n",
       "      <td>NaN</td>\n",
       "      <td>NaN</td>\n",
       "      <td>NaN</td>\n",
       "      <td>NaN</td>\n",
       "      <td>NaN</td>\n",
       "      <td>NaN</td>\n",
       "      <td>NaN</td>\n",
       "    </tr>\n",
       "    <tr>\n",
       "      <th>...</th>\n",
       "      <td>...</td>\n",
       "      <td>...</td>\n",
       "      <td>...</td>\n",
       "      <td>...</td>\n",
       "      <td>...</td>\n",
       "      <td>...</td>\n",
       "      <td>...</td>\n",
       "      <td>...</td>\n",
       "      <td>...</td>\n",
       "      <td>...</td>\n",
       "      <td>...</td>\n",
       "      <td>...</td>\n",
       "      <td>...</td>\n",
       "      <td>...</td>\n",
       "      <td>...</td>\n",
       "      <td>...</td>\n",
       "      <td>...</td>\n",
       "      <td>...</td>\n",
       "      <td>...</td>\n",
       "      <td>...</td>\n",
       "      <td>...</td>\n",
       "    </tr>\n",
       "    <tr>\n",
       "      <th>7404</th>\n",
       "      <td>7405</td>\n",
       "      <td>2022-10-26T15:36:02.555Z</td>\n",
       "      <td>-0.109017</td>\n",
       "      <td>37.1875</td>\n",
       "      <td>-2.261695</td>\n",
       "      <td>40.3125</td>\n",
       "      <td>-1.082678</td>\n",
       "      <td>40.6875</td>\n",
       "      <td>-0.494714</td>\n",
       "      <td>43.3750</td>\n",
       "      <td>...</td>\n",
       "      <td>NaN</td>\n",
       "      <td>NaN</td>\n",
       "      <td>NaN</td>\n",
       "      <td>NaN</td>\n",
       "      <td>NaN</td>\n",
       "      <td>NaN</td>\n",
       "      <td>NaN</td>\n",
       "      <td>NaN</td>\n",
       "      <td>NaN</td>\n",
       "      <td>NaN</td>\n",
       "    </tr>\n",
       "    <tr>\n",
       "      <th>7405</th>\n",
       "      <td>7406</td>\n",
       "      <td>2022-10-26T15:36:03.562Z</td>\n",
       "      <td>-0.098536</td>\n",
       "      <td>37.1875</td>\n",
       "      <td>-2.251992</td>\n",
       "      <td>40.3125</td>\n",
       "      <td>-1.094420</td>\n",
       "      <td>40.6875</td>\n",
       "      <td>-0.515789</td>\n",
       "      <td>43.3750</td>\n",
       "      <td>...</td>\n",
       "      <td>NaN</td>\n",
       "      <td>NaN</td>\n",
       "      <td>NaN</td>\n",
       "      <td>NaN</td>\n",
       "      <td>NaN</td>\n",
       "      <td>NaN</td>\n",
       "      <td>NaN</td>\n",
       "      <td>NaN</td>\n",
       "      <td>NaN</td>\n",
       "      <td>NaN</td>\n",
       "    </tr>\n",
       "    <tr>\n",
       "      <th>7406</th>\n",
       "      <td>7407</td>\n",
       "      <td>2022-10-26T15:36:04.571Z</td>\n",
       "      <td>-0.121100</td>\n",
       "      <td>37.1875</td>\n",
       "      <td>-2.280791</td>\n",
       "      <td>40.2500</td>\n",
       "      <td>-1.121319</td>\n",
       "      <td>40.6875</td>\n",
       "      <td>-0.502406</td>\n",
       "      <td>43.3750</td>\n",
       "      <td>...</td>\n",
       "      <td>NaN</td>\n",
       "      <td>NaN</td>\n",
       "      <td>NaN</td>\n",
       "      <td>NaN</td>\n",
       "      <td>NaN</td>\n",
       "      <td>NaN</td>\n",
       "      <td>NaN</td>\n",
       "      <td>NaN</td>\n",
       "      <td>NaN</td>\n",
       "      <td>NaN</td>\n",
       "    </tr>\n",
       "    <tr>\n",
       "      <th>7407</th>\n",
       "      <td>7408</td>\n",
       "      <td>2022-10-26T15:36:05.572Z</td>\n",
       "      <td>-0.129370</td>\n",
       "      <td>37.1875</td>\n",
       "      <td>-2.269061</td>\n",
       "      <td>40.3125</td>\n",
       "      <td>-1.091610</td>\n",
       "      <td>40.6250</td>\n",
       "      <td>-0.491158</td>\n",
       "      <td>43.3750</td>\n",
       "      <td>...</td>\n",
       "      <td>NaN</td>\n",
       "      <td>NaN</td>\n",
       "      <td>NaN</td>\n",
       "      <td>NaN</td>\n",
       "      <td>NaN</td>\n",
       "      <td>NaN</td>\n",
       "      <td>NaN</td>\n",
       "      <td>NaN</td>\n",
       "      <td>NaN</td>\n",
       "      <td>NaN</td>\n",
       "    </tr>\n",
       "    <tr>\n",
       "      <th>7408</th>\n",
       "      <td>7409</td>\n",
       "      <td>2022-10-26T15:36:06.580Z</td>\n",
       "      <td>-0.134429</td>\n",
       "      <td>37.1250</td>\n",
       "      <td>-2.244449</td>\n",
       "      <td>40.3125</td>\n",
       "      <td>-1.098950</td>\n",
       "      <td>40.6875</td>\n",
       "      <td>-0.502397</td>\n",
       "      <td>43.3750</td>\n",
       "      <td>...</td>\n",
       "      <td>NaN</td>\n",
       "      <td>NaN</td>\n",
       "      <td>NaN</td>\n",
       "      <td>NaN</td>\n",
       "      <td>NaN</td>\n",
       "      <td>NaN</td>\n",
       "      <td>NaN</td>\n",
       "      <td>NaN</td>\n",
       "      <td>NaN</td>\n",
       "      <td>NaN</td>\n",
       "    </tr>\n",
       "  </tbody>\n",
       "</table>\n",
       "<p>7409 rows × 35 columns</p>\n",
       "</div>"
      ],
      "text/plain": [
       "       Num                 Timestamp  Current_J0  Temperature_T0  Current_J1  \\\n",
       "0        1  2022-10-26T08:17:21.847Z    0.109628         27.8750   -2.024669   \n",
       "1        2  2022-10-26T08:17:22.852Z    0.595605         27.8750   -2.278456   \n",
       "2        3  2022-10-26T08:17:23.857Z   -0.229474         27.8750   -2.800408   \n",
       "3        4  2022-10-26T08:17:24.863Z    0.065053         27.8750   -3.687768   \n",
       "4        5  2022-10-26T08:17:25.877Z    0.884140         27.8750   -2.938830   \n",
       "...    ...                       ...         ...             ...         ...   \n",
       "7404  7405  2022-10-26T15:36:02.555Z   -0.109017         37.1875   -2.261695   \n",
       "7405  7406  2022-10-26T15:36:03.562Z   -0.098536         37.1875   -2.251992   \n",
       "7406  7407  2022-10-26T15:36:04.571Z   -0.121100         37.1875   -2.280791   \n",
       "7407  7408  2022-10-26T15:36:05.572Z   -0.129370         37.1875   -2.269061   \n",
       "7408  7409  2022-10-26T15:36:06.580Z   -0.134429         37.1250   -2.244449   \n",
       "\n",
       "      Temperature_J1  Current_J2  Temperature_J2  Current_J3  Temperature_J3  \\\n",
       "0            29.3750   -1.531442         29.3750   -0.998570         32.1250   \n",
       "1            29.3125   -0.866556         29.4375   -0.206097         32.1875   \n",
       "2            29.3125   -2.304336         29.4375   -0.351499         32.1250   \n",
       "3            29.3125   -1.217652         29.4375   -1.209115         32.1250   \n",
       "4            29.3750   -1.794076         29.4375   -2.356471         32.1875   \n",
       "...              ...         ...             ...         ...             ...   \n",
       "7404         40.3125   -1.082678         40.6875   -0.494714         43.3750   \n",
       "7405         40.3125   -1.094420         40.6875   -0.515789         43.3750   \n",
       "7406         40.2500   -1.121319         40.6875   -0.502406         43.3750   \n",
       "7407         40.3125   -1.091610         40.6250   -0.491158         43.3750   \n",
       "7408         40.3125   -1.098950         40.6875   -0.502397         43.3750   \n",
       "\n",
       "      ...  Unnamed: 25  Unnamed: 26  Unnamed: 27  Unnamed: 28  Unnamed: 29  \\\n",
       "0     ...          NaN          NaN          NaN          NaN          NaN   \n",
       "1     ...          NaN          NaN          NaN          NaN          NaN   \n",
       "2     ...          NaN          NaN          NaN          NaN          NaN   \n",
       "3     ...          NaN          NaN          NaN          NaN          NaN   \n",
       "4     ...          NaN          NaN          NaN          NaN          NaN   \n",
       "...   ...          ...          ...          ...          ...          ...   \n",
       "7404  ...          NaN          NaN          NaN          NaN          NaN   \n",
       "7405  ...          NaN          NaN          NaN          NaN          NaN   \n",
       "7406  ...          NaN          NaN          NaN          NaN          NaN   \n",
       "7407  ...          NaN          NaN          NaN          NaN          NaN   \n",
       "7408  ...          NaN          NaN          NaN          NaN          NaN   \n",
       "\n",
       "      Unnamed: 30  Unnamed: 31  Unnamed: 32  Unnamed: 33  Unnamed: 34  \n",
       "0             NaN          NaN          NaN          NaN          NaN  \n",
       "1             NaN          NaN          NaN          NaN          NaN  \n",
       "2             NaN          NaN          NaN          NaN          NaN  \n",
       "3             NaN          NaN          NaN          NaN          NaN  \n",
       "4             NaN          NaN          NaN          NaN          NaN  \n",
       "...           ...          ...          ...          ...          ...  \n",
       "7404          NaN          NaN          NaN          NaN          NaN  \n",
       "7405          NaN          NaN          NaN          NaN          NaN  \n",
       "7406          NaN          NaN          NaN          NaN          NaN  \n",
       "7407          NaN          NaN          NaN          NaN          NaN  \n",
       "7408          NaN          NaN          NaN          NaN          NaN  \n",
       "\n",
       "[7409 rows x 35 columns]"
      ]
     },
     "execution_count": 4,
     "metadata": {},
     "output_type": "execute_result"
    }
   ],
   "source": [
    "df"
   ]
  },
  {
   "cell_type": "code",
   "execution_count": 5,
   "id": "3919d10d",
   "metadata": {},
   "outputs": [
    {
     "name": "stdout",
     "output_type": "stream",
     "text": [
      "<class 'pandas.core.frame.DataFrame'>\n",
      "RangeIndex: 7409 entries, 0 to 7408\n",
      "Data columns (total 35 columns):\n",
      " #   Column                Non-Null Count  Dtype  \n",
      "---  ------                --------------  -----  \n",
      " 0   Num                   7409 non-null   int64  \n",
      " 1   Timestamp             7409 non-null   object \n",
      " 2   Current_J0            7363 non-null   float64\n",
      " 3   Temperature_T0        7355 non-null   float64\n",
      " 4   Current_J1            7355 non-null   float64\n",
      " 5   Temperature_J1        7355 non-null   float64\n",
      " 6   Current_J2            7355 non-null   float64\n",
      " 7   Temperature_J2        7355 non-null   float64\n",
      " 8   Current_J3            7355 non-null   float64\n",
      " 9   Temperature_J3        7355 non-null   float64\n",
      " 10  Current_J4            7355 non-null   float64\n",
      " 11  Temperature_J4        7355 non-null   float64\n",
      " 12  Current_J5            7355 non-null   float64\n",
      " 13  Temperature_J5        7355 non-null   float64\n",
      " 14  Speed_J0              7355 non-null   float64\n",
      " 15  Speed_J1              7355 non-null   float64\n",
      " 16  Speed_J2              7355 non-null   float64\n",
      " 17  Speed_J3              7355 non-null   float64\n",
      " 18  Speed_J4              7355 non-null   float64\n",
      " 19  Speed_J5              7355 non-null   float64\n",
      " 20  Tool_current          7355 non-null   float64\n",
      " 21  cycle                 7409 non-null   int64  \n",
      " 22  Robot_ProtectiveStop  7355 non-null   object \n",
      " 23  grip_lost             7409 non-null   bool   \n",
      " 24  Unnamed: 24           0 non-null      float64\n",
      " 25  Unnamed: 25           0 non-null      float64\n",
      " 26  Unnamed: 26           0 non-null      float64\n",
      " 27  Unnamed: 27           0 non-null      float64\n",
      " 28  Unnamed: 28           0 non-null      float64\n",
      " 29  Unnamed: 29           0 non-null      float64\n",
      " 30  Unnamed: 30           0 non-null      float64\n",
      " 31  Unnamed: 31           0 non-null      float64\n",
      " 32  Unnamed: 32           0 non-null      float64\n",
      " 33  Unnamed: 33           0 non-null      float64\n",
      " 34  Unnamed: 34           0 non-null      float64\n",
      "dtypes: bool(1), float64(30), int64(2), object(2)\n",
      "memory usage: 1.9+ MB\n"
     ]
    }
   ],
   "source": [
    "df.info()"
   ]
  },
  {
   "cell_type": "code",
   "execution_count": 6,
   "id": "e5a5d318",
   "metadata": {},
   "outputs": [
    {
     "data": {
      "text/plain": [
       "Num                        0\n",
       "Timestamp                  0\n",
       "Current_J0                46\n",
       "Temperature_T0            54\n",
       "Current_J1                54\n",
       "Temperature_J1            54\n",
       "Current_J2                54\n",
       "Temperature_J2            54\n",
       "Current_J3                54\n",
       "Temperature_J3            54\n",
       "Current_J4                54\n",
       "Temperature_J4            54\n",
       "Current_J5                54\n",
       "Temperature_J5            54\n",
       "Speed_J0                  54\n",
       "Speed_J1                  54\n",
       "Speed_J2                  54\n",
       "Speed_J3                  54\n",
       "Speed_J4                  54\n",
       "Speed_J5                  54\n",
       "Tool_current              54\n",
       "cycle                      0\n",
       "Robot_ProtectiveStop      54\n",
       "grip_lost                  0\n",
       "Unnamed: 24             7409\n",
       "Unnamed: 25             7409\n",
       "Unnamed: 26             7409\n",
       "Unnamed: 27             7409\n",
       "Unnamed: 28             7409\n",
       "Unnamed: 29             7409\n",
       "Unnamed: 30             7409\n",
       "Unnamed: 31             7409\n",
       "Unnamed: 32             7409\n",
       "Unnamed: 33             7409\n",
       "Unnamed: 34             7409\n",
       "dtype: int64"
      ]
     },
     "execution_count": 6,
     "metadata": {},
     "output_type": "execute_result"
    }
   ],
   "source": [
    "df.isnull().sum()"
   ]
  },
  {
   "cell_type": "code",
   "execution_count": 7,
   "id": "f9eed7bb",
   "metadata": {},
   "outputs": [],
   "source": [
    "columns_to_select = [\n",
    "    \"Num\", \"Timestamp\", \"Current_J0\", \"Temperature_T0\", \"Current_J1\", \"Temperature_J1\",\n",
    "    \"Current_J2\", \"Temperature_J2\", \"Current_J3\", \"Temperature_J3\", \"Current_J4\", \n",
    "    \"Temperature_J4\", \"Current_J5\", \"Temperature_J5\", \"Speed_J0\", \"Speed_J1\", \n",
    "    \"Speed_J2\", \"Speed_J3\", \"Speed_J4\", \"Speed_J5\", \"Tool_current\", \"Robot_ProtectiveStop\", \"grip_lost\"\n",
    "]\n",
    "\n",
    "df = df[columns_to_select]"
   ]
  },
  {
   "cell_type": "code",
   "execution_count": 8,
   "id": "f1eb20d8",
   "metadata": {},
   "outputs": [
    {
     "data": {
      "text/html": [
       "<div>\n",
       "<style scoped>\n",
       "    .dataframe tbody tr th:only-of-type {\n",
       "        vertical-align: middle;\n",
       "    }\n",
       "\n",
       "    .dataframe tbody tr th {\n",
       "        vertical-align: top;\n",
       "    }\n",
       "\n",
       "    .dataframe thead th {\n",
       "        text-align: right;\n",
       "    }\n",
       "</style>\n",
       "<table border=\"1\" class=\"dataframe\">\n",
       "  <thead>\n",
       "    <tr style=\"text-align: right;\">\n",
       "      <th></th>\n",
       "      <th>Num</th>\n",
       "      <th>Timestamp</th>\n",
       "      <th>Current_J0</th>\n",
       "      <th>Temperature_T0</th>\n",
       "      <th>Current_J1</th>\n",
       "      <th>Temperature_J1</th>\n",
       "      <th>Current_J2</th>\n",
       "      <th>Temperature_J2</th>\n",
       "      <th>Current_J3</th>\n",
       "      <th>Temperature_J3</th>\n",
       "      <th>...</th>\n",
       "      <th>Temperature_J5</th>\n",
       "      <th>Speed_J0</th>\n",
       "      <th>Speed_J1</th>\n",
       "      <th>Speed_J2</th>\n",
       "      <th>Speed_J3</th>\n",
       "      <th>Speed_J4</th>\n",
       "      <th>Speed_J5</th>\n",
       "      <th>Tool_current</th>\n",
       "      <th>Robot_ProtectiveStop</th>\n",
       "      <th>grip_lost</th>\n",
       "    </tr>\n",
       "  </thead>\n",
       "  <tbody>\n",
       "    <tr>\n",
       "      <th>0</th>\n",
       "      <td>1</td>\n",
       "      <td>2022-10-26T08:17:21.847Z</td>\n",
       "      <td>0.109628</td>\n",
       "      <td>27.8750</td>\n",
       "      <td>-2.024669</td>\n",
       "      <td>29.3750</td>\n",
       "      <td>-1.531442</td>\n",
       "      <td>29.3750</td>\n",
       "      <td>-0.998570</td>\n",
       "      <td>32.1250</td>\n",
       "      <td>...</td>\n",
       "      <td>32.0000</td>\n",
       "      <td>2.955651e-01</td>\n",
       "      <td>-0.000490</td>\n",
       "      <td>0.001310</td>\n",
       "      <td>-0.132836</td>\n",
       "      <td>-0.007479</td>\n",
       "      <td>-0.152962</td>\n",
       "      <td>0.082732</td>\n",
       "      <td>False</td>\n",
       "      <td>False</td>\n",
       "    </tr>\n",
       "    <tr>\n",
       "      <th>1</th>\n",
       "      <td>2</td>\n",
       "      <td>2022-10-26T08:17:22.852Z</td>\n",
       "      <td>0.595605</td>\n",
       "      <td>27.8750</td>\n",
       "      <td>-2.278456</td>\n",
       "      <td>29.3125</td>\n",
       "      <td>-0.866556</td>\n",
       "      <td>29.4375</td>\n",
       "      <td>-0.206097</td>\n",
       "      <td>32.1875</td>\n",
       "      <td>...</td>\n",
       "      <td>32.0000</td>\n",
       "      <td>-7.390000e-30</td>\n",
       "      <td>-0.000304</td>\n",
       "      <td>0.002185</td>\n",
       "      <td>0.001668</td>\n",
       "      <td>-0.000767</td>\n",
       "      <td>0.000417</td>\n",
       "      <td>0.505895</td>\n",
       "      <td>False</td>\n",
       "      <td>False</td>\n",
       "    </tr>\n",
       "    <tr>\n",
       "      <th>2</th>\n",
       "      <td>3</td>\n",
       "      <td>2022-10-26T08:17:23.857Z</td>\n",
       "      <td>-0.229474</td>\n",
       "      <td>27.8750</td>\n",
       "      <td>-2.800408</td>\n",
       "      <td>29.3125</td>\n",
       "      <td>-2.304336</td>\n",
       "      <td>29.4375</td>\n",
       "      <td>-0.351499</td>\n",
       "      <td>32.1250</td>\n",
       "      <td>...</td>\n",
       "      <td>32.0625</td>\n",
       "      <td>1.369386e-01</td>\n",
       "      <td>0.007795</td>\n",
       "      <td>-2.535874</td>\n",
       "      <td>0.379867</td>\n",
       "      <td>0.000455</td>\n",
       "      <td>-0.496856</td>\n",
       "      <td>0.079420</td>\n",
       "      <td>False</td>\n",
       "      <td>False</td>\n",
       "    </tr>\n",
       "    <tr>\n",
       "      <th>3</th>\n",
       "      <td>4</td>\n",
       "      <td>2022-10-26T08:17:24.863Z</td>\n",
       "      <td>0.065053</td>\n",
       "      <td>27.8750</td>\n",
       "      <td>-3.687768</td>\n",
       "      <td>29.3125</td>\n",
       "      <td>-1.217652</td>\n",
       "      <td>29.4375</td>\n",
       "      <td>-1.209115</td>\n",
       "      <td>32.1250</td>\n",
       "      <td>...</td>\n",
       "      <td>32.0000</td>\n",
       "      <td>-9.030032e-02</td>\n",
       "      <td>-0.004911</td>\n",
       "      <td>-0.009096</td>\n",
       "      <td>-0.384196</td>\n",
       "      <td>0.018411</td>\n",
       "      <td>0.425559</td>\n",
       "      <td>0.083325</td>\n",
       "      <td>False</td>\n",
       "      <td>False</td>\n",
       "    </tr>\n",
       "    <tr>\n",
       "      <th>4</th>\n",
       "      <td>5</td>\n",
       "      <td>2022-10-26T08:17:25.877Z</td>\n",
       "      <td>0.884140</td>\n",
       "      <td>27.8750</td>\n",
       "      <td>-2.938830</td>\n",
       "      <td>29.3750</td>\n",
       "      <td>-1.794076</td>\n",
       "      <td>29.4375</td>\n",
       "      <td>-2.356471</td>\n",
       "      <td>32.1875</td>\n",
       "      <td>...</td>\n",
       "      <td>32.0000</td>\n",
       "      <td>1.268088e-01</td>\n",
       "      <td>0.005567</td>\n",
       "      <td>0.001138</td>\n",
       "      <td>-0.353284</td>\n",
       "      <td>0.014994</td>\n",
       "      <td>0.180989</td>\n",
       "      <td>0.086379</td>\n",
       "      <td>False</td>\n",
       "      <td>False</td>\n",
       "    </tr>\n",
       "    <tr>\n",
       "      <th>...</th>\n",
       "      <td>...</td>\n",
       "      <td>...</td>\n",
       "      <td>...</td>\n",
       "      <td>...</td>\n",
       "      <td>...</td>\n",
       "      <td>...</td>\n",
       "      <td>...</td>\n",
       "      <td>...</td>\n",
       "      <td>...</td>\n",
       "      <td>...</td>\n",
       "      <td>...</td>\n",
       "      <td>...</td>\n",
       "      <td>...</td>\n",
       "      <td>...</td>\n",
       "      <td>...</td>\n",
       "      <td>...</td>\n",
       "      <td>...</td>\n",
       "      <td>...</td>\n",
       "      <td>...</td>\n",
       "      <td>...</td>\n",
       "      <td>...</td>\n",
       "    </tr>\n",
       "    <tr>\n",
       "      <th>7404</th>\n",
       "      <td>7405</td>\n",
       "      <td>2022-10-26T15:36:02.555Z</td>\n",
       "      <td>-0.109017</td>\n",
       "      <td>37.1875</td>\n",
       "      <td>-2.261695</td>\n",
       "      <td>40.3125</td>\n",
       "      <td>-1.082678</td>\n",
       "      <td>40.6875</td>\n",
       "      <td>-0.494714</td>\n",
       "      <td>43.3750</td>\n",
       "      <td>...</td>\n",
       "      <td>44.5625</td>\n",
       "      <td>0.000000e+00</td>\n",
       "      <td>0.000000</td>\n",
       "      <td>0.000000</td>\n",
       "      <td>0.000000</td>\n",
       "      <td>0.000000</td>\n",
       "      <td>0.000000</td>\n",
       "      <td>0.080013</td>\n",
       "      <td>False</td>\n",
       "      <td>False</td>\n",
       "    </tr>\n",
       "    <tr>\n",
       "      <th>7405</th>\n",
       "      <td>7406</td>\n",
       "      <td>2022-10-26T15:36:03.562Z</td>\n",
       "      <td>-0.098536</td>\n",
       "      <td>37.1875</td>\n",
       "      <td>-2.251992</td>\n",
       "      <td>40.3125</td>\n",
       "      <td>-1.094420</td>\n",
       "      <td>40.6875</td>\n",
       "      <td>-0.515789</td>\n",
       "      <td>43.3750</td>\n",
       "      <td>...</td>\n",
       "      <td>44.5000</td>\n",
       "      <td>0.000000e+00</td>\n",
       "      <td>0.000000</td>\n",
       "      <td>0.000000</td>\n",
       "      <td>0.000000</td>\n",
       "      <td>0.000000</td>\n",
       "      <td>0.000000</td>\n",
       "      <td>0.078740</td>\n",
       "      <td>False</td>\n",
       "      <td>False</td>\n",
       "    </tr>\n",
       "    <tr>\n",
       "      <th>7406</th>\n",
       "      <td>7407</td>\n",
       "      <td>2022-10-26T15:36:04.571Z</td>\n",
       "      <td>-0.121100</td>\n",
       "      <td>37.1875</td>\n",
       "      <td>-2.280791</td>\n",
       "      <td>40.2500</td>\n",
       "      <td>-1.121319</td>\n",
       "      <td>40.6875</td>\n",
       "      <td>-0.502406</td>\n",
       "      <td>43.3750</td>\n",
       "      <td>...</td>\n",
       "      <td>44.5000</td>\n",
       "      <td>0.000000e+00</td>\n",
       "      <td>0.000000</td>\n",
       "      <td>0.000000</td>\n",
       "      <td>0.000000</td>\n",
       "      <td>0.000000</td>\n",
       "      <td>0.000000</td>\n",
       "      <td>0.091471</td>\n",
       "      <td>False</td>\n",
       "      <td>False</td>\n",
       "    </tr>\n",
       "    <tr>\n",
       "      <th>7407</th>\n",
       "      <td>7408</td>\n",
       "      <td>2022-10-26T15:36:05.572Z</td>\n",
       "      <td>-0.129370</td>\n",
       "      <td>37.1875</td>\n",
       "      <td>-2.269061</td>\n",
       "      <td>40.3125</td>\n",
       "      <td>-1.091610</td>\n",
       "      <td>40.6250</td>\n",
       "      <td>-0.491158</td>\n",
       "      <td>43.3750</td>\n",
       "      <td>...</td>\n",
       "      <td>44.5625</td>\n",
       "      <td>0.000000e+00</td>\n",
       "      <td>0.000000</td>\n",
       "      <td>0.000000</td>\n",
       "      <td>0.000000</td>\n",
       "      <td>0.000000</td>\n",
       "      <td>0.000000</td>\n",
       "      <td>0.090026</td>\n",
       "      <td>False</td>\n",
       "      <td>False</td>\n",
       "    </tr>\n",
       "    <tr>\n",
       "      <th>7408</th>\n",
       "      <td>7409</td>\n",
       "      <td>2022-10-26T15:36:06.580Z</td>\n",
       "      <td>-0.134429</td>\n",
       "      <td>37.1250</td>\n",
       "      <td>-2.244449</td>\n",
       "      <td>40.3125</td>\n",
       "      <td>-1.098950</td>\n",
       "      <td>40.6875</td>\n",
       "      <td>-0.502397</td>\n",
       "      <td>43.3750</td>\n",
       "      <td>...</td>\n",
       "      <td>44.5625</td>\n",
       "      <td>0.000000e+00</td>\n",
       "      <td>0.000000</td>\n",
       "      <td>0.000000</td>\n",
       "      <td>0.000000</td>\n",
       "      <td>0.000000</td>\n",
       "      <td>0.000000</td>\n",
       "      <td>0.089097</td>\n",
       "      <td>False</td>\n",
       "      <td>False</td>\n",
       "    </tr>\n",
       "  </tbody>\n",
       "</table>\n",
       "<p>7409 rows × 23 columns</p>\n",
       "</div>"
      ],
      "text/plain": [
       "       Num                 Timestamp  Current_J0  Temperature_T0  Current_J1  \\\n",
       "0        1  2022-10-26T08:17:21.847Z    0.109628         27.8750   -2.024669   \n",
       "1        2  2022-10-26T08:17:22.852Z    0.595605         27.8750   -2.278456   \n",
       "2        3  2022-10-26T08:17:23.857Z   -0.229474         27.8750   -2.800408   \n",
       "3        4  2022-10-26T08:17:24.863Z    0.065053         27.8750   -3.687768   \n",
       "4        5  2022-10-26T08:17:25.877Z    0.884140         27.8750   -2.938830   \n",
       "...    ...                       ...         ...             ...         ...   \n",
       "7404  7405  2022-10-26T15:36:02.555Z   -0.109017         37.1875   -2.261695   \n",
       "7405  7406  2022-10-26T15:36:03.562Z   -0.098536         37.1875   -2.251992   \n",
       "7406  7407  2022-10-26T15:36:04.571Z   -0.121100         37.1875   -2.280791   \n",
       "7407  7408  2022-10-26T15:36:05.572Z   -0.129370         37.1875   -2.269061   \n",
       "7408  7409  2022-10-26T15:36:06.580Z   -0.134429         37.1250   -2.244449   \n",
       "\n",
       "      Temperature_J1  Current_J2  Temperature_J2  Current_J3  Temperature_J3  \\\n",
       "0            29.3750   -1.531442         29.3750   -0.998570         32.1250   \n",
       "1            29.3125   -0.866556         29.4375   -0.206097         32.1875   \n",
       "2            29.3125   -2.304336         29.4375   -0.351499         32.1250   \n",
       "3            29.3125   -1.217652         29.4375   -1.209115         32.1250   \n",
       "4            29.3750   -1.794076         29.4375   -2.356471         32.1875   \n",
       "...              ...         ...             ...         ...             ...   \n",
       "7404         40.3125   -1.082678         40.6875   -0.494714         43.3750   \n",
       "7405         40.3125   -1.094420         40.6875   -0.515789         43.3750   \n",
       "7406         40.2500   -1.121319         40.6875   -0.502406         43.3750   \n",
       "7407         40.3125   -1.091610         40.6250   -0.491158         43.3750   \n",
       "7408         40.3125   -1.098950         40.6875   -0.502397         43.3750   \n",
       "\n",
       "      ...  Temperature_J5      Speed_J0  Speed_J1  Speed_J2  Speed_J3  \\\n",
       "0     ...         32.0000  2.955651e-01 -0.000490  0.001310 -0.132836   \n",
       "1     ...         32.0000 -7.390000e-30 -0.000304  0.002185  0.001668   \n",
       "2     ...         32.0625  1.369386e-01  0.007795 -2.535874  0.379867   \n",
       "3     ...         32.0000 -9.030032e-02 -0.004911 -0.009096 -0.384196   \n",
       "4     ...         32.0000  1.268088e-01  0.005567  0.001138 -0.353284   \n",
       "...   ...             ...           ...       ...       ...       ...   \n",
       "7404  ...         44.5625  0.000000e+00  0.000000  0.000000  0.000000   \n",
       "7405  ...         44.5000  0.000000e+00  0.000000  0.000000  0.000000   \n",
       "7406  ...         44.5000  0.000000e+00  0.000000  0.000000  0.000000   \n",
       "7407  ...         44.5625  0.000000e+00  0.000000  0.000000  0.000000   \n",
       "7408  ...         44.5625  0.000000e+00  0.000000  0.000000  0.000000   \n",
       "\n",
       "      Speed_J4  Speed_J5  Tool_current  Robot_ProtectiveStop  grip_lost  \n",
       "0    -0.007479 -0.152962      0.082732                 False      False  \n",
       "1    -0.000767  0.000417      0.505895                 False      False  \n",
       "2     0.000455 -0.496856      0.079420                 False      False  \n",
       "3     0.018411  0.425559      0.083325                 False      False  \n",
       "4     0.014994  0.180989      0.086379                 False      False  \n",
       "...        ...       ...           ...                   ...        ...  \n",
       "7404  0.000000  0.000000      0.080013                 False      False  \n",
       "7405  0.000000  0.000000      0.078740                 False      False  \n",
       "7406  0.000000  0.000000      0.091471                 False      False  \n",
       "7407  0.000000  0.000000      0.090026                 False      False  \n",
       "7408  0.000000  0.000000      0.089097                 False      False  \n",
       "\n",
       "[7409 rows x 23 columns]"
      ]
     },
     "execution_count": 8,
     "metadata": {},
     "output_type": "execute_result"
    }
   ],
   "source": [
    "df"
   ]
  },
  {
   "cell_type": "code",
   "execution_count": 9,
   "id": "919c6956",
   "metadata": {},
   "outputs": [],
   "source": [
    "df.to_csv(r\"G:\\AI\\Assignment\\cobotops\\filtered_cobot_data.csv\", index=False)"
   ]
  },
  {
   "cell_type": "code",
   "execution_count": 10,
   "id": "27428402",
   "metadata": {},
   "outputs": [
    {
     "name": "stderr",
     "output_type": "stream",
     "text": [
      "C:\\Users\\Dibya\\AppData\\Local\\Temp\\ipykernel_16648\\2685784986.py:1: SettingWithCopyWarning: \n",
      "A value is trying to be set on a copy of a slice from a DataFrame\n",
      "\n",
      "See the caveats in the documentation: https://pandas.pydata.org/pandas-docs/stable/user_guide/indexing.html#returning-a-view-versus-a-copy\n",
      "  df.drop(columns=['Timestamp'],inplace=True)\n"
     ]
    }
   ],
   "source": [
    "df.drop(columns=['Timestamp'],inplace=True)"
   ]
  },
  {
   "cell_type": "code",
   "execution_count": 11,
   "id": "3898d615",
   "metadata": {},
   "outputs": [
    {
     "data": {
      "text/html": [
       "<div>\n",
       "<style scoped>\n",
       "    .dataframe tbody tr th:only-of-type {\n",
       "        vertical-align: middle;\n",
       "    }\n",
       "\n",
       "    .dataframe tbody tr th {\n",
       "        vertical-align: top;\n",
       "    }\n",
       "\n",
       "    .dataframe thead th {\n",
       "        text-align: right;\n",
       "    }\n",
       "</style>\n",
       "<table border=\"1\" class=\"dataframe\">\n",
       "  <thead>\n",
       "    <tr style=\"text-align: right;\">\n",
       "      <th></th>\n",
       "      <th>Num</th>\n",
       "      <th>Current_J0</th>\n",
       "      <th>Temperature_T0</th>\n",
       "      <th>Current_J1</th>\n",
       "      <th>Temperature_J1</th>\n",
       "      <th>Current_J2</th>\n",
       "      <th>Temperature_J2</th>\n",
       "      <th>Current_J3</th>\n",
       "      <th>Temperature_J3</th>\n",
       "      <th>Current_J4</th>\n",
       "      <th>...</th>\n",
       "      <th>Temperature_J5</th>\n",
       "      <th>Speed_J0</th>\n",
       "      <th>Speed_J1</th>\n",
       "      <th>Speed_J2</th>\n",
       "      <th>Speed_J3</th>\n",
       "      <th>Speed_J4</th>\n",
       "      <th>Speed_J5</th>\n",
       "      <th>Tool_current</th>\n",
       "      <th>Robot_ProtectiveStop</th>\n",
       "      <th>grip_lost</th>\n",
       "    </tr>\n",
       "  </thead>\n",
       "  <tbody>\n",
       "    <tr>\n",
       "      <th>0</th>\n",
       "      <td>1</td>\n",
       "      <td>0.109628</td>\n",
       "      <td>27.8750</td>\n",
       "      <td>-2.024669</td>\n",
       "      <td>29.3750</td>\n",
       "      <td>-1.531442</td>\n",
       "      <td>29.3750</td>\n",
       "      <td>-0.998570</td>\n",
       "      <td>32.1250</td>\n",
       "      <td>-0.062540</td>\n",
       "      <td>...</td>\n",
       "      <td>32.0000</td>\n",
       "      <td>2.955651e-01</td>\n",
       "      <td>-0.000490</td>\n",
       "      <td>0.001310</td>\n",
       "      <td>-0.132836</td>\n",
       "      <td>-0.007479</td>\n",
       "      <td>-0.152962</td>\n",
       "      <td>0.082732</td>\n",
       "      <td>False</td>\n",
       "      <td>False</td>\n",
       "    </tr>\n",
       "    <tr>\n",
       "      <th>1</th>\n",
       "      <td>2</td>\n",
       "      <td>0.595605</td>\n",
       "      <td>27.8750</td>\n",
       "      <td>-2.278456</td>\n",
       "      <td>29.3125</td>\n",
       "      <td>-0.866556</td>\n",
       "      <td>29.4375</td>\n",
       "      <td>-0.206097</td>\n",
       "      <td>32.1875</td>\n",
       "      <td>-1.062762</td>\n",
       "      <td>...</td>\n",
       "      <td>32.0000</td>\n",
       "      <td>-7.390000e-30</td>\n",
       "      <td>-0.000304</td>\n",
       "      <td>0.002185</td>\n",
       "      <td>0.001668</td>\n",
       "      <td>-0.000767</td>\n",
       "      <td>0.000417</td>\n",
       "      <td>0.505895</td>\n",
       "      <td>False</td>\n",
       "      <td>False</td>\n",
       "    </tr>\n",
       "    <tr>\n",
       "      <th>2</th>\n",
       "      <td>3</td>\n",
       "      <td>-0.229474</td>\n",
       "      <td>27.8750</td>\n",
       "      <td>-2.800408</td>\n",
       "      <td>29.3125</td>\n",
       "      <td>-2.304336</td>\n",
       "      <td>29.4375</td>\n",
       "      <td>-0.351499</td>\n",
       "      <td>32.1250</td>\n",
       "      <td>-0.668869</td>\n",
       "      <td>...</td>\n",
       "      <td>32.0625</td>\n",
       "      <td>1.369386e-01</td>\n",
       "      <td>0.007795</td>\n",
       "      <td>-2.535874</td>\n",
       "      <td>0.379867</td>\n",
       "      <td>0.000455</td>\n",
       "      <td>-0.496856</td>\n",
       "      <td>0.079420</td>\n",
       "      <td>False</td>\n",
       "      <td>False</td>\n",
       "    </tr>\n",
       "    <tr>\n",
       "      <th>3</th>\n",
       "      <td>4</td>\n",
       "      <td>0.065053</td>\n",
       "      <td>27.8750</td>\n",
       "      <td>-3.687768</td>\n",
       "      <td>29.3125</td>\n",
       "      <td>-1.217652</td>\n",
       "      <td>29.4375</td>\n",
       "      <td>-1.209115</td>\n",
       "      <td>32.1250</td>\n",
       "      <td>-0.819755</td>\n",
       "      <td>...</td>\n",
       "      <td>32.0000</td>\n",
       "      <td>-9.030032e-02</td>\n",
       "      <td>-0.004911</td>\n",
       "      <td>-0.009096</td>\n",
       "      <td>-0.384196</td>\n",
       "      <td>0.018411</td>\n",
       "      <td>0.425559</td>\n",
       "      <td>0.083325</td>\n",
       "      <td>False</td>\n",
       "      <td>False</td>\n",
       "    </tr>\n",
       "    <tr>\n",
       "      <th>4</th>\n",
       "      <td>5</td>\n",
       "      <td>0.884140</td>\n",
       "      <td>27.8750</td>\n",
       "      <td>-2.938830</td>\n",
       "      <td>29.3750</td>\n",
       "      <td>-1.794076</td>\n",
       "      <td>29.4375</td>\n",
       "      <td>-2.356471</td>\n",
       "      <td>32.1875</td>\n",
       "      <td>-0.966427</td>\n",
       "      <td>...</td>\n",
       "      <td>32.0000</td>\n",
       "      <td>1.268088e-01</td>\n",
       "      <td>0.005567</td>\n",
       "      <td>0.001138</td>\n",
       "      <td>-0.353284</td>\n",
       "      <td>0.014994</td>\n",
       "      <td>0.180989</td>\n",
       "      <td>0.086379</td>\n",
       "      <td>False</td>\n",
       "      <td>False</td>\n",
       "    </tr>\n",
       "    <tr>\n",
       "      <th>...</th>\n",
       "      <td>...</td>\n",
       "      <td>...</td>\n",
       "      <td>...</td>\n",
       "      <td>...</td>\n",
       "      <td>...</td>\n",
       "      <td>...</td>\n",
       "      <td>...</td>\n",
       "      <td>...</td>\n",
       "      <td>...</td>\n",
       "      <td>...</td>\n",
       "      <td>...</td>\n",
       "      <td>...</td>\n",
       "      <td>...</td>\n",
       "      <td>...</td>\n",
       "      <td>...</td>\n",
       "      <td>...</td>\n",
       "      <td>...</td>\n",
       "      <td>...</td>\n",
       "      <td>...</td>\n",
       "      <td>...</td>\n",
       "      <td>...</td>\n",
       "    </tr>\n",
       "    <tr>\n",
       "      <th>7404</th>\n",
       "      <td>7405</td>\n",
       "      <td>-0.109017</td>\n",
       "      <td>37.1875</td>\n",
       "      <td>-2.261695</td>\n",
       "      <td>40.3125</td>\n",
       "      <td>-1.082678</td>\n",
       "      <td>40.6875</td>\n",
       "      <td>-0.494714</td>\n",
       "      <td>43.3750</td>\n",
       "      <td>-0.019447</td>\n",
       "      <td>...</td>\n",
       "      <td>44.5625</td>\n",
       "      <td>0.000000e+00</td>\n",
       "      <td>0.000000</td>\n",
       "      <td>0.000000</td>\n",
       "      <td>0.000000</td>\n",
       "      <td>0.000000</td>\n",
       "      <td>0.000000</td>\n",
       "      <td>0.080013</td>\n",
       "      <td>False</td>\n",
       "      <td>False</td>\n",
       "    </tr>\n",
       "    <tr>\n",
       "      <th>7405</th>\n",
       "      <td>7406</td>\n",
       "      <td>-0.098536</td>\n",
       "      <td>37.1875</td>\n",
       "      <td>-2.251992</td>\n",
       "      <td>40.3125</td>\n",
       "      <td>-1.094420</td>\n",
       "      <td>40.6875</td>\n",
       "      <td>-0.515789</td>\n",
       "      <td>43.3750</td>\n",
       "      <td>-0.009186</td>\n",
       "      <td>...</td>\n",
       "      <td>44.5000</td>\n",
       "      <td>0.000000e+00</td>\n",
       "      <td>0.000000</td>\n",
       "      <td>0.000000</td>\n",
       "      <td>0.000000</td>\n",
       "      <td>0.000000</td>\n",
       "      <td>0.000000</td>\n",
       "      <td>0.078740</td>\n",
       "      <td>False</td>\n",
       "      <td>False</td>\n",
       "    </tr>\n",
       "    <tr>\n",
       "      <th>7406</th>\n",
       "      <td>7407</td>\n",
       "      <td>-0.121100</td>\n",
       "      <td>37.1875</td>\n",
       "      <td>-2.280791</td>\n",
       "      <td>40.2500</td>\n",
       "      <td>-1.121319</td>\n",
       "      <td>40.6875</td>\n",
       "      <td>-0.502406</td>\n",
       "      <td>43.3750</td>\n",
       "      <td>-0.002978</td>\n",
       "      <td>...</td>\n",
       "      <td>44.5000</td>\n",
       "      <td>0.000000e+00</td>\n",
       "      <td>0.000000</td>\n",
       "      <td>0.000000</td>\n",
       "      <td>0.000000</td>\n",
       "      <td>0.000000</td>\n",
       "      <td>0.000000</td>\n",
       "      <td>0.091471</td>\n",
       "      <td>False</td>\n",
       "      <td>False</td>\n",
       "    </tr>\n",
       "    <tr>\n",
       "      <th>7407</th>\n",
       "      <td>7408</td>\n",
       "      <td>-0.129370</td>\n",
       "      <td>37.1875</td>\n",
       "      <td>-2.269061</td>\n",
       "      <td>40.3125</td>\n",
       "      <td>-1.091610</td>\n",
       "      <td>40.6250</td>\n",
       "      <td>-0.491158</td>\n",
       "      <td>43.3750</td>\n",
       "      <td>-0.001136</td>\n",
       "      <td>...</td>\n",
       "      <td>44.5625</td>\n",
       "      <td>0.000000e+00</td>\n",
       "      <td>0.000000</td>\n",
       "      <td>0.000000</td>\n",
       "      <td>0.000000</td>\n",
       "      <td>0.000000</td>\n",
       "      <td>0.000000</td>\n",
       "      <td>0.090026</td>\n",
       "      <td>False</td>\n",
       "      <td>False</td>\n",
       "    </tr>\n",
       "    <tr>\n",
       "      <th>7408</th>\n",
       "      <td>7409</td>\n",
       "      <td>-0.134429</td>\n",
       "      <td>37.1250</td>\n",
       "      <td>-2.244449</td>\n",
       "      <td>40.3125</td>\n",
       "      <td>-1.098950</td>\n",
       "      <td>40.6875</td>\n",
       "      <td>-0.502397</td>\n",
       "      <td>43.3750</td>\n",
       "      <td>-0.025829</td>\n",
       "      <td>...</td>\n",
       "      <td>44.5625</td>\n",
       "      <td>0.000000e+00</td>\n",
       "      <td>0.000000</td>\n",
       "      <td>0.000000</td>\n",
       "      <td>0.000000</td>\n",
       "      <td>0.000000</td>\n",
       "      <td>0.000000</td>\n",
       "      <td>0.089097</td>\n",
       "      <td>False</td>\n",
       "      <td>False</td>\n",
       "    </tr>\n",
       "  </tbody>\n",
       "</table>\n",
       "<p>7409 rows × 22 columns</p>\n",
       "</div>"
      ],
      "text/plain": [
       "       Num  Current_J0  Temperature_T0  Current_J1  Temperature_J1  \\\n",
       "0        1    0.109628         27.8750   -2.024669         29.3750   \n",
       "1        2    0.595605         27.8750   -2.278456         29.3125   \n",
       "2        3   -0.229474         27.8750   -2.800408         29.3125   \n",
       "3        4    0.065053         27.8750   -3.687768         29.3125   \n",
       "4        5    0.884140         27.8750   -2.938830         29.3750   \n",
       "...    ...         ...             ...         ...             ...   \n",
       "7404  7405   -0.109017         37.1875   -2.261695         40.3125   \n",
       "7405  7406   -0.098536         37.1875   -2.251992         40.3125   \n",
       "7406  7407   -0.121100         37.1875   -2.280791         40.2500   \n",
       "7407  7408   -0.129370         37.1875   -2.269061         40.3125   \n",
       "7408  7409   -0.134429         37.1250   -2.244449         40.3125   \n",
       "\n",
       "      Current_J2  Temperature_J2  Current_J3  Temperature_J3  Current_J4  ...  \\\n",
       "0      -1.531442         29.3750   -0.998570         32.1250   -0.062540  ...   \n",
       "1      -0.866556         29.4375   -0.206097         32.1875   -1.062762  ...   \n",
       "2      -2.304336         29.4375   -0.351499         32.1250   -0.668869  ...   \n",
       "3      -1.217652         29.4375   -1.209115         32.1250   -0.819755  ...   \n",
       "4      -1.794076         29.4375   -2.356471         32.1875   -0.966427  ...   \n",
       "...          ...             ...         ...             ...         ...  ...   \n",
       "7404   -1.082678         40.6875   -0.494714         43.3750   -0.019447  ...   \n",
       "7405   -1.094420         40.6875   -0.515789         43.3750   -0.009186  ...   \n",
       "7406   -1.121319         40.6875   -0.502406         43.3750   -0.002978  ...   \n",
       "7407   -1.091610         40.6250   -0.491158         43.3750   -0.001136  ...   \n",
       "7408   -1.098950         40.6875   -0.502397         43.3750   -0.025829  ...   \n",
       "\n",
       "      Temperature_J5      Speed_J0  Speed_J1  Speed_J2  Speed_J3  Speed_J4  \\\n",
       "0            32.0000  2.955651e-01 -0.000490  0.001310 -0.132836 -0.007479   \n",
       "1            32.0000 -7.390000e-30 -0.000304  0.002185  0.001668 -0.000767   \n",
       "2            32.0625  1.369386e-01  0.007795 -2.535874  0.379867  0.000455   \n",
       "3            32.0000 -9.030032e-02 -0.004911 -0.009096 -0.384196  0.018411   \n",
       "4            32.0000  1.268088e-01  0.005567  0.001138 -0.353284  0.014994   \n",
       "...              ...           ...       ...       ...       ...       ...   \n",
       "7404         44.5625  0.000000e+00  0.000000  0.000000  0.000000  0.000000   \n",
       "7405         44.5000  0.000000e+00  0.000000  0.000000  0.000000  0.000000   \n",
       "7406         44.5000  0.000000e+00  0.000000  0.000000  0.000000  0.000000   \n",
       "7407         44.5625  0.000000e+00  0.000000  0.000000  0.000000  0.000000   \n",
       "7408         44.5625  0.000000e+00  0.000000  0.000000  0.000000  0.000000   \n",
       "\n",
       "      Speed_J5  Tool_current  Robot_ProtectiveStop  grip_lost  \n",
       "0    -0.152962      0.082732                 False      False  \n",
       "1     0.000417      0.505895                 False      False  \n",
       "2    -0.496856      0.079420                 False      False  \n",
       "3     0.425559      0.083325                 False      False  \n",
       "4     0.180989      0.086379                 False      False  \n",
       "...        ...           ...                   ...        ...  \n",
       "7404  0.000000      0.080013                 False      False  \n",
       "7405  0.000000      0.078740                 False      False  \n",
       "7406  0.000000      0.091471                 False      False  \n",
       "7407  0.000000      0.090026                 False      False  \n",
       "7408  0.000000      0.089097                 False      False  \n",
       "\n",
       "[7409 rows x 22 columns]"
      ]
     },
     "execution_count": 11,
     "metadata": {},
     "output_type": "execute_result"
    }
   ],
   "source": [
    "df"
   ]
  },
  {
   "cell_type": "code",
   "execution_count": 12,
   "id": "7de8fed8",
   "metadata": {},
   "outputs": [
    {
     "name": "stdout",
     "output_type": "stream",
     "text": [
      "<class 'pandas.core.frame.DataFrame'>\n",
      "RangeIndex: 7409 entries, 0 to 7408\n",
      "Data columns (total 22 columns):\n",
      " #   Column                Non-Null Count  Dtype  \n",
      "---  ------                --------------  -----  \n",
      " 0   Num                   7409 non-null   int64  \n",
      " 1   Current_J0            7363 non-null   float64\n",
      " 2   Temperature_T0        7355 non-null   float64\n",
      " 3   Current_J1            7355 non-null   float64\n",
      " 4   Temperature_J1        7355 non-null   float64\n",
      " 5   Current_J2            7355 non-null   float64\n",
      " 6   Temperature_J2        7355 non-null   float64\n",
      " 7   Current_J3            7355 non-null   float64\n",
      " 8   Temperature_J3        7355 non-null   float64\n",
      " 9   Current_J4            7355 non-null   float64\n",
      " 10  Temperature_J4        7355 non-null   float64\n",
      " 11  Current_J5            7355 non-null   float64\n",
      " 12  Temperature_J5        7355 non-null   float64\n",
      " 13  Speed_J0              7355 non-null   float64\n",
      " 14  Speed_J1              7355 non-null   float64\n",
      " 15  Speed_J2              7355 non-null   float64\n",
      " 16  Speed_J3              7355 non-null   float64\n",
      " 17  Speed_J4              7355 non-null   float64\n",
      " 18  Speed_J5              7355 non-null   float64\n",
      " 19  Tool_current          7355 non-null   float64\n",
      " 20  Robot_ProtectiveStop  7355 non-null   object \n",
      " 21  grip_lost             7409 non-null   bool   \n",
      "dtypes: bool(1), float64(19), int64(1), object(1)\n",
      "memory usage: 1.2+ MB\n"
     ]
    }
   ],
   "source": [
    "df.info()"
   ]
  },
  {
   "cell_type": "code",
   "execution_count": 13,
   "id": "aa485773",
   "metadata": {},
   "outputs": [
    {
     "data": {
      "text/plain": [
       "Num                      0\n",
       "Current_J0              46\n",
       "Temperature_T0          54\n",
       "Current_J1              54\n",
       "Temperature_J1          54\n",
       "Current_J2              54\n",
       "Temperature_J2          54\n",
       "Current_J3              54\n",
       "Temperature_J3          54\n",
       "Current_J4              54\n",
       "Temperature_J4          54\n",
       "Current_J5              54\n",
       "Temperature_J5          54\n",
       "Speed_J0                54\n",
       "Speed_J1                54\n",
       "Speed_J2                54\n",
       "Speed_J3                54\n",
       "Speed_J4                54\n",
       "Speed_J5                54\n",
       "Tool_current            54\n",
       "Robot_ProtectiveStop    54\n",
       "grip_lost                0\n",
       "dtype: int64"
      ]
     },
     "execution_count": 13,
     "metadata": {},
     "output_type": "execute_result"
    }
   ],
   "source": [
    "df.isnull().sum()"
   ]
  },
  {
   "cell_type": "code",
   "execution_count": 14,
   "id": "1b96afb2",
   "metadata": {},
   "outputs": [],
   "source": [
    "# Dropping the rows with any null values\n",
    "df= df.dropna()"
   ]
  },
  {
   "cell_type": "code",
   "execution_count": 15,
   "id": "47b11dd6",
   "metadata": {},
   "outputs": [
    {
     "name": "stdout",
     "output_type": "stream",
     "text": [
      "<class 'pandas.core.frame.DataFrame'>\n",
      "Index: 7355 entries, 0 to 7408\n",
      "Data columns (total 22 columns):\n",
      " #   Column                Non-Null Count  Dtype  \n",
      "---  ------                --------------  -----  \n",
      " 0   Num                   7355 non-null   int64  \n",
      " 1   Current_J0            7355 non-null   float64\n",
      " 2   Temperature_T0        7355 non-null   float64\n",
      " 3   Current_J1            7355 non-null   float64\n",
      " 4   Temperature_J1        7355 non-null   float64\n",
      " 5   Current_J2            7355 non-null   float64\n",
      " 6   Temperature_J2        7355 non-null   float64\n",
      " 7   Current_J3            7355 non-null   float64\n",
      " 8   Temperature_J3        7355 non-null   float64\n",
      " 9   Current_J4            7355 non-null   float64\n",
      " 10  Temperature_J4        7355 non-null   float64\n",
      " 11  Current_J5            7355 non-null   float64\n",
      " 12  Temperature_J5        7355 non-null   float64\n",
      " 13  Speed_J0              7355 non-null   float64\n",
      " 14  Speed_J1              7355 non-null   float64\n",
      " 15  Speed_J2              7355 non-null   float64\n",
      " 16  Speed_J3              7355 non-null   float64\n",
      " 17  Speed_J4              7355 non-null   float64\n",
      " 18  Speed_J5              7355 non-null   float64\n",
      " 19  Tool_current          7355 non-null   float64\n",
      " 20  Robot_ProtectiveStop  7355 non-null   object \n",
      " 21  grip_lost             7355 non-null   bool   \n",
      "dtypes: bool(1), float64(19), int64(1), object(1)\n",
      "memory usage: 1.2+ MB\n"
     ]
    }
   ],
   "source": [
    "df.info()"
   ]
  },
  {
   "cell_type": "code",
   "execution_count": 16,
   "id": "87eccae1",
   "metadata": {},
   "outputs": [
    {
     "data": {
      "text/html": [
       "<div>\n",
       "<style scoped>\n",
       "    .dataframe tbody tr th:only-of-type {\n",
       "        vertical-align: middle;\n",
       "    }\n",
       "\n",
       "    .dataframe tbody tr th {\n",
       "        vertical-align: top;\n",
       "    }\n",
       "\n",
       "    .dataframe thead th {\n",
       "        text-align: right;\n",
       "    }\n",
       "</style>\n",
       "<table border=\"1\" class=\"dataframe\">\n",
       "  <thead>\n",
       "    <tr style=\"text-align: right;\">\n",
       "      <th></th>\n",
       "      <th>Num</th>\n",
       "      <th>Current_J0</th>\n",
       "      <th>Temperature_T0</th>\n",
       "      <th>Current_J1</th>\n",
       "      <th>Temperature_J1</th>\n",
       "      <th>Current_J2</th>\n",
       "      <th>Temperature_J2</th>\n",
       "      <th>Current_J3</th>\n",
       "      <th>Temperature_J3</th>\n",
       "      <th>Current_J4</th>\n",
       "      <th>...</th>\n",
       "      <th>Temperature_J5</th>\n",
       "      <th>Speed_J0</th>\n",
       "      <th>Speed_J1</th>\n",
       "      <th>Speed_J2</th>\n",
       "      <th>Speed_J3</th>\n",
       "      <th>Speed_J4</th>\n",
       "      <th>Speed_J5</th>\n",
       "      <th>Tool_current</th>\n",
       "      <th>Robot_ProtectiveStop</th>\n",
       "      <th>grip_lost</th>\n",
       "    </tr>\n",
       "  </thead>\n",
       "  <tbody>\n",
       "    <tr>\n",
       "      <th>0</th>\n",
       "      <td>1</td>\n",
       "      <td>0.109628</td>\n",
       "      <td>27.875</td>\n",
       "      <td>-2.024669</td>\n",
       "      <td>29.3750</td>\n",
       "      <td>-1.531442</td>\n",
       "      <td>29.3750</td>\n",
       "      <td>-0.998570</td>\n",
       "      <td>32.1250</td>\n",
       "      <td>-0.062540</td>\n",
       "      <td>...</td>\n",
       "      <td>32.0000</td>\n",
       "      <td>2.955651e-01</td>\n",
       "      <td>-0.000490</td>\n",
       "      <td>0.001310</td>\n",
       "      <td>-0.132836</td>\n",
       "      <td>-0.007479</td>\n",
       "      <td>-0.152962</td>\n",
       "      <td>0.082732</td>\n",
       "      <td>False</td>\n",
       "      <td>False</td>\n",
       "    </tr>\n",
       "    <tr>\n",
       "      <th>1</th>\n",
       "      <td>2</td>\n",
       "      <td>0.595605</td>\n",
       "      <td>27.875</td>\n",
       "      <td>-2.278456</td>\n",
       "      <td>29.3125</td>\n",
       "      <td>-0.866556</td>\n",
       "      <td>29.4375</td>\n",
       "      <td>-0.206097</td>\n",
       "      <td>32.1875</td>\n",
       "      <td>-1.062762</td>\n",
       "      <td>...</td>\n",
       "      <td>32.0000</td>\n",
       "      <td>-7.390000e-30</td>\n",
       "      <td>-0.000304</td>\n",
       "      <td>0.002185</td>\n",
       "      <td>0.001668</td>\n",
       "      <td>-0.000767</td>\n",
       "      <td>0.000417</td>\n",
       "      <td>0.505895</td>\n",
       "      <td>False</td>\n",
       "      <td>False</td>\n",
       "    </tr>\n",
       "    <tr>\n",
       "      <th>2</th>\n",
       "      <td>3</td>\n",
       "      <td>-0.229474</td>\n",
       "      <td>27.875</td>\n",
       "      <td>-2.800408</td>\n",
       "      <td>29.3125</td>\n",
       "      <td>-2.304336</td>\n",
       "      <td>29.4375</td>\n",
       "      <td>-0.351499</td>\n",
       "      <td>32.1250</td>\n",
       "      <td>-0.668869</td>\n",
       "      <td>...</td>\n",
       "      <td>32.0625</td>\n",
       "      <td>1.369386e-01</td>\n",
       "      <td>0.007795</td>\n",
       "      <td>-2.535874</td>\n",
       "      <td>0.379867</td>\n",
       "      <td>0.000455</td>\n",
       "      <td>-0.496856</td>\n",
       "      <td>0.079420</td>\n",
       "      <td>False</td>\n",
       "      <td>False</td>\n",
       "    </tr>\n",
       "    <tr>\n",
       "      <th>3</th>\n",
       "      <td>4</td>\n",
       "      <td>0.065053</td>\n",
       "      <td>27.875</td>\n",
       "      <td>-3.687768</td>\n",
       "      <td>29.3125</td>\n",
       "      <td>-1.217652</td>\n",
       "      <td>29.4375</td>\n",
       "      <td>-1.209115</td>\n",
       "      <td>32.1250</td>\n",
       "      <td>-0.819755</td>\n",
       "      <td>...</td>\n",
       "      <td>32.0000</td>\n",
       "      <td>-9.030032e-02</td>\n",
       "      <td>-0.004911</td>\n",
       "      <td>-0.009096</td>\n",
       "      <td>-0.384196</td>\n",
       "      <td>0.018411</td>\n",
       "      <td>0.425559</td>\n",
       "      <td>0.083325</td>\n",
       "      <td>False</td>\n",
       "      <td>False</td>\n",
       "    </tr>\n",
       "    <tr>\n",
       "      <th>4</th>\n",
       "      <td>5</td>\n",
       "      <td>0.884140</td>\n",
       "      <td>27.875</td>\n",
       "      <td>-2.938830</td>\n",
       "      <td>29.3750</td>\n",
       "      <td>-1.794076</td>\n",
       "      <td>29.4375</td>\n",
       "      <td>-2.356471</td>\n",
       "      <td>32.1875</td>\n",
       "      <td>-0.966427</td>\n",
       "      <td>...</td>\n",
       "      <td>32.0000</td>\n",
       "      <td>1.268088e-01</td>\n",
       "      <td>0.005567</td>\n",
       "      <td>0.001138</td>\n",
       "      <td>-0.353284</td>\n",
       "      <td>0.014994</td>\n",
       "      <td>0.180989</td>\n",
       "      <td>0.086379</td>\n",
       "      <td>False</td>\n",
       "      <td>False</td>\n",
       "    </tr>\n",
       "  </tbody>\n",
       "</table>\n",
       "<p>5 rows × 22 columns</p>\n",
       "</div>"
      ],
      "text/plain": [
       "   Num  Current_J0  Temperature_T0  Current_J1  Temperature_J1  Current_J2  \\\n",
       "0    1    0.109628          27.875   -2.024669         29.3750   -1.531442   \n",
       "1    2    0.595605          27.875   -2.278456         29.3125   -0.866556   \n",
       "2    3   -0.229474          27.875   -2.800408         29.3125   -2.304336   \n",
       "3    4    0.065053          27.875   -3.687768         29.3125   -1.217652   \n",
       "4    5    0.884140          27.875   -2.938830         29.3750   -1.794076   \n",
       "\n",
       "   Temperature_J2  Current_J3  Temperature_J3  Current_J4  ...  \\\n",
       "0         29.3750   -0.998570         32.1250   -0.062540  ...   \n",
       "1         29.4375   -0.206097         32.1875   -1.062762  ...   \n",
       "2         29.4375   -0.351499         32.1250   -0.668869  ...   \n",
       "3         29.4375   -1.209115         32.1250   -0.819755  ...   \n",
       "4         29.4375   -2.356471         32.1875   -0.966427  ...   \n",
       "\n",
       "   Temperature_J5      Speed_J0  Speed_J1  Speed_J2  Speed_J3  Speed_J4  \\\n",
       "0         32.0000  2.955651e-01 -0.000490  0.001310 -0.132836 -0.007479   \n",
       "1         32.0000 -7.390000e-30 -0.000304  0.002185  0.001668 -0.000767   \n",
       "2         32.0625  1.369386e-01  0.007795 -2.535874  0.379867  0.000455   \n",
       "3         32.0000 -9.030032e-02 -0.004911 -0.009096 -0.384196  0.018411   \n",
       "4         32.0000  1.268088e-01  0.005567  0.001138 -0.353284  0.014994   \n",
       "\n",
       "   Speed_J5  Tool_current  Robot_ProtectiveStop  grip_lost  \n",
       "0 -0.152962      0.082732                 False      False  \n",
       "1  0.000417      0.505895                 False      False  \n",
       "2 -0.496856      0.079420                 False      False  \n",
       "3  0.425559      0.083325                 False      False  \n",
       "4  0.180989      0.086379                 False      False  \n",
       "\n",
       "[5 rows x 22 columns]"
      ]
     },
     "execution_count": 16,
     "metadata": {},
     "output_type": "execute_result"
    }
   ],
   "source": [
    "df.head(5)"
   ]
  },
  {
   "cell_type": "code",
   "execution_count": 17,
   "id": "e29d559d",
   "metadata": {},
   "outputs": [
    {
     "name": "stderr",
     "output_type": "stream",
     "text": [
      "C:\\Users\\Dibya\\AppData\\Local\\Temp\\ipykernel_16648\\417087308.py:7: SettingWithCopyWarning: \n",
      "A value is trying to be set on a copy of a slice from a DataFrame.\n",
      "Try using .loc[row_indexer,col_indexer] = value instead\n",
      "\n",
      "See the caveats in the documentation: https://pandas.pydata.org/pandas-docs/stable/user_guide/indexing.html#returning-a-view-versus-a-copy\n",
      "  df[\"Robot_ProtectiveStop\"] = le.fit_transform(df[\"Robot_ProtectiveStop\"])\n",
      "C:\\Users\\Dibya\\AppData\\Local\\Temp\\ipykernel_16648\\417087308.py:8: SettingWithCopyWarning: \n",
      "A value is trying to be set on a copy of a slice from a DataFrame.\n",
      "Try using .loc[row_indexer,col_indexer] = value instead\n",
      "\n",
      "See the caveats in the documentation: https://pandas.pydata.org/pandas-docs/stable/user_guide/indexing.html#returning-a-view-versus-a-copy\n",
      "  df[\"grip_lost\"] = le.fit_transform(df[\"grip_lost\"])\n"
     ]
    }
   ],
   "source": [
    "# Label encoding our target columns \n",
    "from sklearn.preprocessing import LabelEncoder\n",
    "\n",
    "# Initializing the label encoder\n",
    "\n",
    "le = LabelEncoder()\n",
    "df[\"Robot_ProtectiveStop\"] = le.fit_transform(df[\"Robot_ProtectiveStop\"])\n",
    "df[\"grip_lost\"] = le.fit_transform(df[\"grip_lost\"])\n"
   ]
  },
  {
   "cell_type": "code",
   "execution_count": 18,
   "id": "a1f165f0",
   "metadata": {},
   "outputs": [
    {
     "data": {
      "text/html": [
       "<div>\n",
       "<style scoped>\n",
       "    .dataframe tbody tr th:only-of-type {\n",
       "        vertical-align: middle;\n",
       "    }\n",
       "\n",
       "    .dataframe tbody tr th {\n",
       "        vertical-align: top;\n",
       "    }\n",
       "\n",
       "    .dataframe thead th {\n",
       "        text-align: right;\n",
       "    }\n",
       "</style>\n",
       "<table border=\"1\" class=\"dataframe\">\n",
       "  <thead>\n",
       "    <tr style=\"text-align: right;\">\n",
       "      <th></th>\n",
       "      <th>Num</th>\n",
       "      <th>Current_J0</th>\n",
       "      <th>Temperature_T0</th>\n",
       "      <th>Current_J1</th>\n",
       "      <th>Temperature_J1</th>\n",
       "      <th>Current_J2</th>\n",
       "      <th>Temperature_J2</th>\n",
       "      <th>Current_J3</th>\n",
       "      <th>Temperature_J3</th>\n",
       "      <th>Current_J4</th>\n",
       "      <th>...</th>\n",
       "      <th>Temperature_J5</th>\n",
       "      <th>Speed_J0</th>\n",
       "      <th>Speed_J1</th>\n",
       "      <th>Speed_J2</th>\n",
       "      <th>Speed_J3</th>\n",
       "      <th>Speed_J4</th>\n",
       "      <th>Speed_J5</th>\n",
       "      <th>Tool_current</th>\n",
       "      <th>Robot_ProtectiveStop</th>\n",
       "      <th>grip_lost</th>\n",
       "    </tr>\n",
       "  </thead>\n",
       "  <tbody>\n",
       "    <tr>\n",
       "      <th>0</th>\n",
       "      <td>1</td>\n",
       "      <td>0.109628</td>\n",
       "      <td>27.875</td>\n",
       "      <td>-2.024669</td>\n",
       "      <td>29.3750</td>\n",
       "      <td>-1.531442</td>\n",
       "      <td>29.3750</td>\n",
       "      <td>-0.998570</td>\n",
       "      <td>32.1250</td>\n",
       "      <td>-0.062540</td>\n",
       "      <td>...</td>\n",
       "      <td>32.0000</td>\n",
       "      <td>2.955651e-01</td>\n",
       "      <td>-0.000490</td>\n",
       "      <td>0.001310</td>\n",
       "      <td>-0.132836</td>\n",
       "      <td>-0.007479</td>\n",
       "      <td>-0.152962</td>\n",
       "      <td>0.082732</td>\n",
       "      <td>0</td>\n",
       "      <td>0</td>\n",
       "    </tr>\n",
       "    <tr>\n",
       "      <th>1</th>\n",
       "      <td>2</td>\n",
       "      <td>0.595605</td>\n",
       "      <td>27.875</td>\n",
       "      <td>-2.278456</td>\n",
       "      <td>29.3125</td>\n",
       "      <td>-0.866556</td>\n",
       "      <td>29.4375</td>\n",
       "      <td>-0.206097</td>\n",
       "      <td>32.1875</td>\n",
       "      <td>-1.062762</td>\n",
       "      <td>...</td>\n",
       "      <td>32.0000</td>\n",
       "      <td>-7.390000e-30</td>\n",
       "      <td>-0.000304</td>\n",
       "      <td>0.002185</td>\n",
       "      <td>0.001668</td>\n",
       "      <td>-0.000767</td>\n",
       "      <td>0.000417</td>\n",
       "      <td>0.505895</td>\n",
       "      <td>0</td>\n",
       "      <td>0</td>\n",
       "    </tr>\n",
       "    <tr>\n",
       "      <th>2</th>\n",
       "      <td>3</td>\n",
       "      <td>-0.229474</td>\n",
       "      <td>27.875</td>\n",
       "      <td>-2.800408</td>\n",
       "      <td>29.3125</td>\n",
       "      <td>-2.304336</td>\n",
       "      <td>29.4375</td>\n",
       "      <td>-0.351499</td>\n",
       "      <td>32.1250</td>\n",
       "      <td>-0.668869</td>\n",
       "      <td>...</td>\n",
       "      <td>32.0625</td>\n",
       "      <td>1.369386e-01</td>\n",
       "      <td>0.007795</td>\n",
       "      <td>-2.535874</td>\n",
       "      <td>0.379867</td>\n",
       "      <td>0.000455</td>\n",
       "      <td>-0.496856</td>\n",
       "      <td>0.079420</td>\n",
       "      <td>0</td>\n",
       "      <td>0</td>\n",
       "    </tr>\n",
       "    <tr>\n",
       "      <th>3</th>\n",
       "      <td>4</td>\n",
       "      <td>0.065053</td>\n",
       "      <td>27.875</td>\n",
       "      <td>-3.687768</td>\n",
       "      <td>29.3125</td>\n",
       "      <td>-1.217652</td>\n",
       "      <td>29.4375</td>\n",
       "      <td>-1.209115</td>\n",
       "      <td>32.1250</td>\n",
       "      <td>-0.819755</td>\n",
       "      <td>...</td>\n",
       "      <td>32.0000</td>\n",
       "      <td>-9.030032e-02</td>\n",
       "      <td>-0.004911</td>\n",
       "      <td>-0.009096</td>\n",
       "      <td>-0.384196</td>\n",
       "      <td>0.018411</td>\n",
       "      <td>0.425559</td>\n",
       "      <td>0.083325</td>\n",
       "      <td>0</td>\n",
       "      <td>0</td>\n",
       "    </tr>\n",
       "    <tr>\n",
       "      <th>4</th>\n",
       "      <td>5</td>\n",
       "      <td>0.884140</td>\n",
       "      <td>27.875</td>\n",
       "      <td>-2.938830</td>\n",
       "      <td>29.3750</td>\n",
       "      <td>-1.794076</td>\n",
       "      <td>29.4375</td>\n",
       "      <td>-2.356471</td>\n",
       "      <td>32.1875</td>\n",
       "      <td>-0.966427</td>\n",
       "      <td>...</td>\n",
       "      <td>32.0000</td>\n",
       "      <td>1.268088e-01</td>\n",
       "      <td>0.005567</td>\n",
       "      <td>0.001138</td>\n",
       "      <td>-0.353284</td>\n",
       "      <td>0.014994</td>\n",
       "      <td>0.180989</td>\n",
       "      <td>0.086379</td>\n",
       "      <td>0</td>\n",
       "      <td>0</td>\n",
       "    </tr>\n",
       "  </tbody>\n",
       "</table>\n",
       "<p>5 rows × 22 columns</p>\n",
       "</div>"
      ],
      "text/plain": [
       "   Num  Current_J0  Temperature_T0  Current_J1  Temperature_J1  Current_J2  \\\n",
       "0    1    0.109628          27.875   -2.024669         29.3750   -1.531442   \n",
       "1    2    0.595605          27.875   -2.278456         29.3125   -0.866556   \n",
       "2    3   -0.229474          27.875   -2.800408         29.3125   -2.304336   \n",
       "3    4    0.065053          27.875   -3.687768         29.3125   -1.217652   \n",
       "4    5    0.884140          27.875   -2.938830         29.3750   -1.794076   \n",
       "\n",
       "   Temperature_J2  Current_J3  Temperature_J3  Current_J4  ...  \\\n",
       "0         29.3750   -0.998570         32.1250   -0.062540  ...   \n",
       "1         29.4375   -0.206097         32.1875   -1.062762  ...   \n",
       "2         29.4375   -0.351499         32.1250   -0.668869  ...   \n",
       "3         29.4375   -1.209115         32.1250   -0.819755  ...   \n",
       "4         29.4375   -2.356471         32.1875   -0.966427  ...   \n",
       "\n",
       "   Temperature_J5      Speed_J0  Speed_J1  Speed_J2  Speed_J3  Speed_J4  \\\n",
       "0         32.0000  2.955651e-01 -0.000490  0.001310 -0.132836 -0.007479   \n",
       "1         32.0000 -7.390000e-30 -0.000304  0.002185  0.001668 -0.000767   \n",
       "2         32.0625  1.369386e-01  0.007795 -2.535874  0.379867  0.000455   \n",
       "3         32.0000 -9.030032e-02 -0.004911 -0.009096 -0.384196  0.018411   \n",
       "4         32.0000  1.268088e-01  0.005567  0.001138 -0.353284  0.014994   \n",
       "\n",
       "   Speed_J5  Tool_current  Robot_ProtectiveStop  grip_lost  \n",
       "0 -0.152962      0.082732                     0          0  \n",
       "1  0.000417      0.505895                     0          0  \n",
       "2 -0.496856      0.079420                     0          0  \n",
       "3  0.425559      0.083325                     0          0  \n",
       "4  0.180989      0.086379                     0          0  \n",
       "\n",
       "[5 rows x 22 columns]"
      ]
     },
     "execution_count": 18,
     "metadata": {},
     "output_type": "execute_result"
    }
   ],
   "source": [
    "df.head(5)"
   ]
  },
  {
   "cell_type": "code",
   "execution_count": 19,
   "id": "6f03e3de",
   "metadata": {},
   "outputs": [],
   "source": [
    "# Selecting features and target datasets\n",
    "X = df.drop([\"Robot_ProtectiveStop\", \"grip_lost\", \"Num\"], axis=1)\n",
    "y = df[[\"Robot_ProtectiveStop\", \"grip_lost\"]]"
   ]
  },
  {
   "cell_type": "code",
   "execution_count": 20,
   "id": "5940081d",
   "metadata": {},
   "outputs": [],
   "source": [
    "# Scaling the feature dataset for better prediction \n",
    "from sklearn.preprocessing import StandardScaler\n",
    "\n",
    "scaler = StandardScaler()\n",
    "X_scaled = scaler.fit_transform(X)"
   ]
  },
  {
   "cell_type": "code",
   "execution_count": 21,
   "id": "451d9284",
   "metadata": {},
   "outputs": [],
   "source": [
    "## Now splitting the data into the test and train dataset:\n",
    "\n",
    "from sklearn.model_selection import train_test_split\n",
    "X_train, X_test,y_train,y_test = train_test_split(X_scaled,y,test_size=0.2,random_state=42)"
   ]
  },
  {
   "cell_type": "code",
   "execution_count": 22,
   "id": "24849ba2",
   "metadata": {},
   "outputs": [
    {
     "name": "stdout",
     "output_type": "stream",
     "text": [
      "\n",
      "Results for Robot_ProtectiveStop:\n",
      "Accuracy: 0.9673691366417403\n",
      "              precision    recall  f1-score   support\n",
      "\n",
      "           0       0.97      1.00      0.98      1403\n",
      "           1       0.86      0.35      0.50        68\n",
      "\n",
      "    accuracy                           0.97      1471\n",
      "   macro avg       0.91      0.68      0.74      1471\n",
      "weighted avg       0.96      0.97      0.96      1471\n",
      "\n",
      "\n",
      "Results for grip_lost:\n",
      "Accuracy: 0.973487423521414\n",
      "              precision    recall  f1-score   support\n",
      "\n",
      "           0       0.97      1.00      0.99      1414\n",
      "           1       0.91      0.35      0.51        57\n",
      "\n",
      "    accuracy                           0.97      1471\n",
      "   macro avg       0.94      0.67      0.75      1471\n",
      "weighted avg       0.97      0.97      0.97      1471\n",
      "\n"
     ]
    }
   ],
   "source": [
    "## Implementing the randomForest classifier\n",
    "\n",
    "from sklearn.ensemble import RandomForestClassifier\n",
    "from sklearn.metrics import accuracy_score, classification_report\n",
    "\n",
    "# Initializing the model \n",
    "model = RandomForestClassifier(random_state=42)\n",
    "\n",
    "#Train the model\n",
    "model.fit(X_train,y_train)\n",
    "\n",
    "# Predict on test set \n",
    "y_pred = model.predict(X_test)\n",
    "\n",
    "for i, target in enumerate([\"Robot_ProtectiveStop\",\"grip_lost\"]):\n",
    "    print(f\"\\nResults for {target}:\")\n",
    "    print(f\"Accuracy: {accuracy_score(y_test[target],y_pred[:,i])}\")\n",
    "    print(classification_report(y_test[target],y_pred[:,i]))"
   ]
  },
  {
   "cell_type": "code",
   "execution_count": 23,
   "id": "16c3574e",
   "metadata": {},
   "outputs": [
    {
     "name": "stdout",
     "output_type": "stream",
     "text": [
      "\n",
      "Results for Robot_ProtectiveStop:\n",
      "Accuracy: 0.9721278042148198\n",
      "              precision    recall  f1-score   support\n",
      "\n",
      "           0       0.98      0.99      0.99      1403\n",
      "           1       0.79      0.54      0.64        68\n",
      "\n",
      "    accuracy                           0.97      1471\n",
      "   macro avg       0.88      0.77      0.81      1471\n",
      "weighted avg       0.97      0.97      0.97      1471\n",
      "\n",
      "\n",
      "Results for grip_lost:\n",
      "Accuracy: 0.9741672331747111\n",
      "              precision    recall  f1-score   support\n",
      "\n",
      "           0       0.98      1.00      0.99      1414\n",
      "           1       0.88      0.39      0.54        57\n",
      "\n",
      "    accuracy                           0.97      1471\n",
      "   macro avg       0.93      0.69      0.76      1471\n",
      "weighted avg       0.97      0.97      0.97      1471\n",
      "\n"
     ]
    }
   ],
   "source": [
    "from sklearn.multioutput import MultiOutputClassifier\n",
    "from xgboost import XGBClassifier\n",
    "\n",
    "# Initialize the model\n",
    "model = MultiOutputClassifier(XGBClassifier(random_state=42))\n",
    "\n",
    "# Train the model\n",
    "model.fit(X_train, y_train)\n",
    "\n",
    "# Predict on test set\n",
    "y_pred = model.predict(X_test)\n",
    "\n",
    "# Evaluate the model\n",
    "for i, target in enumerate([\"Robot_ProtectiveStop\", \"grip_lost\"]):\n",
    "    print(f\"\\nResults for {target}:\")\n",
    "    print(f\"Accuracy: {accuracy_score(y_test[target], y_pred[:, i])}\")\n",
    "    print(classification_report(y_test[target], y_pred[:, i]))"
   ]
  },
  {
   "cell_type": "code",
   "execution_count": 29,
   "id": "036bcd20",
   "metadata": {},
   "outputs": [
    {
     "data": {
      "image/png": "[encoded data removed]",
      "text/plain": [
       "<Figure size 1200x600 with 1 Axes>"
      ]
     },
     "metadata": {},
     "output_type": "display_data"
    },
    {
     "data": {
      "image/png": "[encoded data removed]",
      "text/plain": [
       "<Figure size 1200x500 with 4 Axes>"
      ]
     },
     "metadata": {},
     "output_type": "display_data"
    },
    {
     "data": {
      "application/vnd.plotly.v1+json": {
       "config": {
        "plotlyServerURL": "https://plot.ly"
       },
       "data": [
        {
         "alignmentgroup": "True",
         "hovertemplate": "Target=Robot_ProtectiveStop<br>Class=Class 0<br>Metric=%{x}<br>Score=%{y}<extra></extra>",
         "legendgroup": "Robot_ProtectiveStop",
         "marker": {
          "color": "#636efa",
          "pattern": {
           "shape": ""
          }
         },
         "name": "Robot_ProtectiveStop",
         "offsetgroup": "Robot_ProtectiveStop",
         "orientation": "v",
         "showlegend": true,
         "textposition": "auto",
         "type": "bar",
         "x": [
          "precision",
          "recall",
          "f1-score"
         ],
         "xaxis": "x",
         "y": [
          0.9782303370786517,
          0.992872416250891,
          0.9854969932790945
         ],
         "yaxis": "y"
        },
        {
         "alignmentgroup": "True",
         "hovertemplate": "Target=Robot_ProtectiveStop<br>Class=Class 1<br>Metric=%{x}<br>Score=%{y}<extra></extra>",
         "legendgroup": "Robot_ProtectiveStop",
         "marker": {
          "color": "#636efa",
          "pattern": {
           "shape": ""
          }
         },
         "name": "Robot_ProtectiveStop",
         "offsetgroup": "Robot_ProtectiveStop",
         "orientation": "v",
         "showlegend": false,
         "textposition": "auto",
         "type": "bar",
         "x": [
          "precision",
          "recall",
          "f1-score"
         ],
         "xaxis": "x2",
         "y": [
          0.7872340425531915,
          0.5441176470588235,
          0.6434782608695652
         ],
         "yaxis": "y2"
        },
        {
         "alignmentgroup": "True",
         "hovertemplate": "Target=grip_lost<br>Class=Class 0<br>Metric=%{x}<br>Score=%{y}<extra></extra>",
         "legendgroup": "grip_lost",
         "marker": {
          "color": "#EF553B",
          "pattern": {
           "shape": ""
          }
         },
         "name": "grip_lost",
         "offsetgroup": "grip_lost",
         "orientation": "v",
         "showlegend": true,
         "textposition": "auto",
         "type": "bar",
         "x": [
          "precision",
          "recall",
          "f1-score"
         ],
         "xaxis": "x",
         "y": [
          0.9757952973720608,
          0.9978783592644979,
          0.9867132867132867
         ],
         "yaxis": "y"
        },
        {
         "alignmentgroup": "True",
         "hovertemplate": "Target=grip_lost<br>Class=Class 1<br>Metric=%{x}<br>Score=%{y}<extra></extra>",
         "legendgroup": "grip_lost",
         "marker": {
          "color": "#EF553B",
          "pattern": {
           "shape": ""
          }
         },
         "name": "grip_lost",
         "offsetgroup": "grip_lost",
         "orientation": "v",
         "showlegend": false,
         "textposition": "auto",
         "type": "bar",
         "x": [
          "precision",
          "recall",
          "f1-score"
         ],
         "xaxis": "x2",
         "y": [
          0.88,
          0.38596491228070173,
          0.5365853658536586
         ],
         "yaxis": "y2"
        }
       ],
       "layout": {
        "annotations": [
         {
          "font": {},
          "showarrow": false,
          "text": "Class=Class 0",
          "x": 0.245,
          "xanchor": "center",
          "xref": "paper",
          "y": 1,
          "yanchor": "bottom",
          "yref": "paper"
         },
         {
          "font": {},
          "showarrow": false,
          "text": "Class=Class 1",
          "x": 0.755,
          "xanchor": "center",
          "xref": "paper",
          "y": 1,
          "yanchor": "bottom",
          "yref": "paper"
         }
        ],
        "barmode": "group",
        "height": 500,
        "legend": {
         "title": {
          "text": "Target"
         },
         "tracegroupgap": 0
        },
        "template": {
         "data": {
          "bar": [
           {
            "error_x": {
             "color": "#2a3f5f"
            },
            "error_y": {
             "color": "#2a3f5f"
            },
            "marker": {
             "line": {
              "color": "#E5ECF6",
              "width": 0.5
             },
             "pattern": {
              "fillmode": "overlay",
              "size": 10,
              "solidity": 0.2
             }
            },
            "type": "bar"
           }
          ],
          "barpolar": [
           {
            "marker": {
             "line": {
              "color": "#E5ECF6",
              "width": 0.5
             },
             "pattern": {
              "fillmode": "overlay",
              "size": 10,
              "solidity": 0.2
             }
            },
            "type": "barpolar"
           }
          ],
          "carpet": [
           {
            "aaxis": {
             "endlinecolor": "#2a3f5f",
             "gridcolor": "white",
             "linecolor": "white",
             "minorgridcolor": "white",
             "startlinecolor": "#2a3f5f"
            },
            "baxis": {
             "endlinecolor": "#2a3f5f",
             "gridcolor": "white",
             "linecolor": "white",
             "minorgridcolor": "white",
             "startlinecolor": "#2a3f5f"
            },
            "type": "carpet"
           }
          ],
          "choropleth": [
           {
            "colorbar": {
             "outlinewidth": 0,
             "ticks": ""
            },
            "type": "choropleth"
           }
          ],
          "contour": [
           {
            "colorbar": {
             "outlinewidth": 0,
             "ticks": ""
            },
            "colorscale": [
             [
              0,
              "#0d0887"
             ],
             [
              0.1111111111111111,
              "#46039f"
             ],
             [
              0.2222222222222222,
              "#7201a8"
             ],
             [
              0.3333333333333333,
              "#9c179e"
             ],
             [
              0.4444444444444444,
              "#bd3786"
             ],
             [
              0.5555555555555556,
              "#d8576b"
             ],
             [
              0.6666666666666666,
              "#ed7953"
             ],
             [
              0.7777777777777778,
              "#fb9f3a"
             ],
             [
              0.8888888888888888,
              "#fdca26"
             ],
             [
              1,
              "#f0f921"
             ]
            ],
            "type": "contour"
           }
          ],
          "contourcarpet": [
           {
            "colorbar": {
             "outlinewidth": 0,
             "ticks": ""
            },
            "type": "contourcarpet"
           }
          ],
          "heatmap": [
           {
            "colorbar": {
             "outlinewidth": 0,
             "ticks": ""
            },
            "colorscale": [
             [
              0,
              "#0d0887"
             ],
             [
              0.1111111111111111,
              "#46039f"
             ],
             [
              0.2222222222222222,
              "#7201a8"
             ],
             [
              0.3333333333333333,
              "#9c179e"
             ],
             [
              0.4444444444444444,
              "#bd3786"
             ],
             [
              0.5555555555555556,
              "#d8576b"
             ],
             [
              0.6666666666666666,
              "#ed7953"
             ],
             [
              0.7777777777777778,
              "#fb9f3a"
             ],
             [
              0.8888888888888888,
              "#fdca26"
             ],
             [
              1,
              "#f0f921"
             ]
            ],
            "type": "heatmap"
           }
          ],
          "heatmapgl": [
           {
            "colorbar": {
             "outlinewidth": 0,
             "ticks": ""
            },
            "colorscale": [
             [
              0,
              "#0d0887"
             ],
             [
              0.1111111111111111,
              "#46039f"
             ],
             [
              0.2222222222222222,
              "#7201a8"
             ],
             [
              0.3333333333333333,
              "#9c179e"
             ],
             [
              0.4444444444444444,
              "#bd3786"
             ],
             [
              0.5555555555555556,
              "#d8576b"
             ],
             [
              0.6666666666666666,
              "#ed7953"
             ],
             [
              0.7777777777777778,
              "#fb9f3a"
             ],
             [
              0.8888888888888888,
              "#fdca26"
             ],
             [
              1,
              "#f0f921"
             ]
            ],
            "type": "heatmapgl"
           }
          ],
          "histogram": [
           {
            "marker": {
             "pattern": {
              "fillmode": "overlay",
              "size": 10,
              "solidity": 0.2
             }
            },
            "type": "histogram"
           }
          ],
          "histogram2d": [
           {
            "colorbar": {
             "outlinewidth": 0,
             "ticks": ""
            },
            "colorscale": [
             [
              0,
              "#0d0887"
             ],
             [
              0.1111111111111111,
              "#46039f"
             ],
             [
              0.2222222222222222,
              "#7201a8"
             ],
             [
              0.3333333333333333,
              "#9c179e"
             ],
             [
              0.4444444444444444,
              "#bd3786"
             ],
             [
              0.5555555555555556,
              "#d8576b"
             ],
             [
              0.6666666666666666,
              "#ed7953"
             ],
             [
              0.7777777777777778,
              "#fb9f3a"
             ],
             [
              0.8888888888888888,
              "#fdca26"
             ],
             [
              1,
              "#f0f921"
             ]
            ],
            "type": "histogram2d"
           }
          ],
          "histogram2dcontour": [
           {
            "colorbar": {
             "outlinewidth": 0,
             "ticks": ""
            },
            "colorscale": [
             [
              0,
              "#0d0887"
             ],
             [
              0.1111111111111111,
              "#46039f"
             ],
             [
              0.2222222222222222,
              "#7201a8"
             ],
             [
              0.3333333333333333,
              "#9c179e"
             ],
             [
              0.4444444444444444,
              "#bd3786"
             ],
             [
              0.5555555555555556,
              "#d8576b"
             ],
             [
              0.6666666666666666,
              "#ed7953"
             ],
             [
              0.7777777777777778,
              "#fb9f3a"
             ],
             [
              0.8888888888888888,
              "#fdca26"
             ],
             [
              1,
              "#f0f921"
             ]
            ],
            "type": "histogram2dcontour"
           }
          ],
          "mesh3d": [
           {
            "colorbar": {
             "outlinewidth": 0,
             "ticks": ""
            },
            "type": "mesh3d"
           }
          ],
          "parcoords": [
           {
            "line": {
             "colorbar": {
              "outlinewidth": 0,
              "ticks": ""
             }
            },
            "type": "parcoords"
           }
          ],
          "pie": [
           {
            "automargin": true,
            "type": "pie"
           }
          ],
          "scatter": [
           {
            "fillpattern": {
             "fillmode": "overlay",
             "size": 10,
             "solidity": 0.2
            },
            "type": "scatter"
           }
          ],
          "scatter3d": [
           {
            "line": {
             "colorbar": {
              "outlinewidth": 0,
              "ticks": ""
             }
            },
            "marker": {
             "colorbar": {
              "outlinewidth": 0,
              "ticks": ""
             }
            },
            "type": "scatter3d"
           }
          ],
          "scattercarpet": [
           {
            "marker": {
             "colorbar": {
              "outlinewidth": 0,
              "ticks": ""
             }
            },
            "type": "scattercarpet"
           }
          ],
          "scattergeo": [
           {
            "marker": {
             "colorbar": {
              "outlinewidth": 0,
              "ticks": ""
             }
            },
            "type": "scattergeo"
           }
          ],
          "scattergl": [
           {
            "marker": {
             "colorbar": {
              "outlinewidth": 0,
              "ticks": ""
             }
            },
            "type": "scattergl"
           }
          ],
          "scattermapbox": [
           {
            "marker": {
             "colorbar": {
              "outlinewidth": 0,
              "ticks": ""
             }
            },
            "type": "scattermapbox"
           }
          ],
          "scatterpolar": [
           {
            "marker": {
             "colorbar": {
              "outlinewidth": 0,
              "ticks": ""
             }
            },
            "type": "scatterpolar"
           }
          ],
          "scatterpolargl": [
           {
            "marker": {
             "colorbar": {
              "outlinewidth": 0,
              "ticks": ""
             }
            },
            "type": "scatterpolargl"
           }
          ],
          "scatterternary": [
           {
            "marker": {
             "colorbar": {
              "outlinewidth": 0,
              "ticks": ""
             }
            },
            "type": "scatterternary"
           }
          ],
          "surface": [
           {
            "colorbar": {
             "outlinewidth": 0,
             "ticks": ""
            },
            "colorscale": [
             [
              0,
              "#0d0887"
             ],
             [
              0.1111111111111111,
              "#46039f"
             ],
             [
              0.2222222222222222,
              "#7201a8"
             ],
             [
              0.3333333333333333,
              "#9c179e"
             ],
             [
              0.4444444444444444,
              "#bd3786"
             ],
             [
              0.5555555555555556,
              "#d8576b"
             ],
             [
              0.6666666666666666,
              "#ed7953"
             ],
             [
              0.7777777777777778,
              "#fb9f3a"
             ],
             [
              0.8888888888888888,
              "#fdca26"
             ],
             [
              1,
              "#f0f921"
             ]
            ],
            "type": "surface"
           }
          ],
          "table": [
           {
            "cells": {
             "fill": {
              "color": "#EBF0F8"
             },
             "line": {
              "color": "white"
             }
            },
            "header": {
             "fill": {
              "color": "#C8D4E3"
             },
             "line": {
              "color": "white"
             }
            },
            "type": "table"
           }
          ]
         },
         "layout": {
          "annotationdefaults": {
           "arrowcolor": "#2a3f5f",
           "arrowhead": 0,
           "arrowwidth": 1
          },
          "autotypenumbers": "strict",
          "coloraxis": {
           "colorbar": {
            "outlinewidth": 0,
            "ticks": ""
           }
          },
          "colorscale": {
           "diverging": [
            [
             0,
             "#8e0152"
            ],
            [
             0.1,
             "#c51b7d"
            ],
            [
             0.2,
             "#de77ae"
            ],
            [
             0.3,
             "#f1b6da"
            ],
            [
             0.4,
             "#fde0ef"
            ],
            [
             0.5,
             "#f7f7f7"
            ],
            [
             0.6,
             "#e6f5d0"
            ],
            [
             0.7,
             "#b8e186"
            ],
            [
             0.8,
             "#7fbc41"
            ],
            [
             0.9,
             "#4d9221"
            ],
            [
             1,
             "#276419"
            ]
           ],
           "sequential": [
            [
             0,
             "#0d0887"
            ],
            [
             0.1111111111111111,
             "#46039f"
            ],
            [
             0.2222222222222222,
             "#7201a8"
            ],
            [
             0.3333333333333333,
             "#9c179e"
            ],
            [
             0.4444444444444444,
             "#bd3786"
            ],
            [
             0.5555555555555556,
             "#d8576b"
            ],
            [
             0.6666666666666666,
             "#ed7953"
            ],
            [
             0.7777777777777778,
             "#fb9f3a"
            ],
            [
             0.8888888888888888,
             "#fdca26"
            ],
            [
             1,
             "#f0f921"
            ]
           ],
           "sequentialminus": [
            [
             0,
             "#0d0887"
            ],
            [
             0.1111111111111111,
             "#46039f"
            ],
            [
             0.2222222222222222,
             "#7201a8"
            ],
            [
             0.3333333333333333,
             "#9c179e"
            ],
            [
             0.4444444444444444,
             "#bd3786"
            ],
            [
             0.5555555555555556,
             "#d8576b"
            ],
            [
             0.6666666666666666,
             "#ed7953"
            ],
            [
             0.7777777777777778,
             "#fb9f3a"
            ],
            [
             0.8888888888888888,
             "#fdca26"
            ],
            [
             1,
             "#f0f921"
            ]
           ]
          },
          "colorway": [
           "#636efa",
           "#EF553B",
           "#00cc96",
           "#ab63fa",
           "#FFA15A",
           "#19d3f3",
           "#FF6692",
           "#B6E880",
           "#FF97FF",
           "#FECB52"
          ],
          "font": {
           "color": "#2a3f5f"
          },
          "geo": {
           "bgcolor": "white",
           "lakecolor": "white",
           "landcolor": "#E5ECF6",
           "showlakes": true,
           "showland": true,
           "subunitcolor": "white"
          },
          "hoverlabel": {
           "align": "left"
          },
          "hovermode": "closest",
          "mapbox": {
           "style": "light"
          },
          "paper_bgcolor": "white",
          "plot_bgcolor": "#E5ECF6",
          "polar": {
           "angularaxis": {
            "gridcolor": "white",
            "linecolor": "white",
            "ticks": ""
           },
           "bgcolor": "#E5ECF6",
           "radialaxis": {
            "gridcolor": "white",
            "linecolor": "white",
            "ticks": ""
           }
          },
          "scene": {
           "xaxis": {
            "backgroundcolor": "#E5ECF6",
            "gridcolor": "white",
            "gridwidth": 2,
            "linecolor": "white",
            "showbackground": true,
            "ticks": "",
            "zerolinecolor": "white"
           },
           "yaxis": {
            "backgroundcolor": "#E5ECF6",
            "gridcolor": "white",
            "gridwidth": 2,
            "linecolor": "white",
            "showbackground": true,
            "ticks": "",
            "zerolinecolor": "white"
           },
           "zaxis": {
            "backgroundcolor": "#E5ECF6",
            "gridcolor": "white",
            "gridwidth": 2,
            "linecolor": "white",
            "showbackground": true,
            "ticks": "",
            "zerolinecolor": "white"
           }
          },
          "shapedefaults": {
           "line": {
            "color": "#2a3f5f"
           }
          },
          "ternary": {
           "aaxis": {
            "gridcolor": "white",
            "linecolor": "white",
            "ticks": ""
           },
           "baxis": {
            "gridcolor": "white",
            "linecolor": "white",
            "ticks": ""
           },
           "bgcolor": "#E5ECF6",
           "caxis": {
            "gridcolor": "white",
            "linecolor": "white",
            "ticks": ""
           }
          },
          "title": {
           "x": 0.05
          },
          "xaxis": {
           "automargin": true,
           "gridcolor": "white",
           "linecolor": "white",
           "ticks": "",
           "title": {
            "standoff": 15
           },
           "zerolinecolor": "white",
           "zerolinewidth": 2
          },
          "yaxis": {
           "automargin": true,
           "gridcolor": "white",
           "linecolor": "white",
           "ticks": "",
           "title": {
            "standoff": 15
           },
           "zerolinecolor": "white",
           "zerolinewidth": 2
          }
         }
        },
        "title": {
         "text": "Classification Metrics for Robot_ProtectiveStop and grip_lost"
        },
        "xaxis": {
         "anchor": "y",
         "domain": [
          0,
          0.49
         ],
         "title": {
          "text": "Metric"
         }
        },
        "xaxis2": {
         "anchor": "y2",
         "domain": [
          0.51,
          1
         ],
         "matches": "x",
         "title": {
          "text": "Metric"
         }
        },
        "yaxis": {
         "anchor": "x",
         "domain": [
          0,
          1
         ],
         "range": [
          0,
          1.1
         ],
         "title": {
          "text": "Score"
         }
        },
        "yaxis2": {
         "anchor": "x2",
         "domain": [
          0,
          1
         ],
         "matches": "y",
         "range": [
          0,
          1.1
         ],
         "showticklabels": false
        }
       }
      }
     },
     "metadata": {},
     "output_type": "display_data"
    },
    {
     "data": {
      "image/png": "[encoded data removed]",
      "text/plain": [
       "<Figure size 800x800 with 1 Axes>"
      ]
     },
     "metadata": {},
     "output_type": "display_data"
    }
   ],
   "source": [
    "import plotly.express as px\n",
    "from sklearn.metrics import classification_report, confusion_matrix\n",
    "import seaborn as sns\n",
    "\n",
    "# Step 1: Extract metrics from classification_report\n",
    "metrics_data = {}\n",
    "targets = [\"Robot_ProtectiveStop\", \"grip_lost\"]\n",
    "for i, target in enumerate(targets):\n",
    "    report = classification_report(y_test[target], y_pred[:, i], output_dict=True)\n",
    "    metrics_data[target] = {\n",
    "        \"Class 0\": {\n",
    "            \"precision\": report[\"0\"][\"precision\"],\n",
    "            \"recall\": report[\"0\"][\"recall\"],\n",
    "            \"f1-score\": report[\"0\"][\"f1-score\"],\n",
    "            \"support\": report[\"0\"][\"support\"]\n",
    "        },\n",
    "        \"Class 1\": {\n",
    "            \"precision\": report[\"1\"][\"precision\"],\n",
    "            \"recall\": report[\"1\"][\"recall\"],\n",
    "            \"f1-score\": report[\"1\"][\"f1-score\"],\n",
    "            \"support\": report[\"1\"][\"support\"]\n",
    "        },\n",
    "        \"accuracy\": report[\"accuracy\"]\n",
    "    }\n",
    "\n",
    "# Step 2: Prepare data for bar plot\n",
    "metrics = [\"precision\", \"recall\", \"f1-score\"]\n",
    "classes = [\"Class 0\", \"Class 1\"]\n",
    "bar_data = []\n",
    "for target in targets:\n",
    "    for cls in classes:\n",
    "        for metric in metrics:\n",
    "            bar_data.append({\n",
    "                \"Target\": target,\n",
    "                \"Class\": cls,\n",
    "                \"Metric\": metric,\n",
    "                \"Value\": metrics_data[target][cls][metric]\n",
    "            })\n",
    "\n",
    "bar_df = pd.DataFrame(bar_data)\n",
    "\n",
    "# Step 3: Create grouped bar plot (Matplotlib/Seaborn)\n",
    "plt.figure(figsize=(12, 6))\n",
    "sns.barplot(x=\"Metric\", y=\"Value\", hue=\"Target\", data=bar_df)\n",
    "plt.title(\"Classification Metrics Comparison for Robot_ProtectiveStop and grip_lost\")\n",
    "plt.ylim(0, 1.1)\n",
    "plt.ylabel(\"Score\")\n",
    "plt.xlabel(\"Metric\")\n",
    "plt.legend(title=\"Target & Class\", loc=\"lower right\")\n",
    "plt.tight_layout()\n",
    "plt.savefig(r\"G:\\AI\\Assignment\\cobotops\\metrics_bar_plot.png\")\n",
    "plt.show()\n",
    "\n",
    "# Step 4: Create confusion matrices\n",
    "fig, axes = plt.subplots(1, 2, figsize=(12, 5))\n",
    "for i, target in enumerate(targets):\n",
    "    cm = confusion_matrix(y_test[target], y_pred[:, i])\n",
    "    sns.heatmap(cm, annot=True, fmt=\"d\", cmap=\"Blues\", ax=axes[i])\n",
    "    axes[i].set_title(f\"Confusion Matrix: {target}\")\n",
    "    axes[i].set_xlabel(\"Predicted\")\n",
    "    axes[i].set_ylabel(\"True\")\n",
    "plt.tight_layout()\n",
    "plt.savefig(r\"G:\\AI\\Assignment\\cobotops\\confusion_matrices.png\")\n",
    "plt.show()\n",
    "\n",
    "# Step 5: Create interactive Plotly bar plot\n",
    "fig = px.bar(\n",
    "    bar_df,\n",
    "    x=\"Metric\",\n",
    "    y=\"Value\",\n",
    "    color=\"Target\",\n",
    "    barmode=\"group\",\n",
    "    facet_col=\"Class\",\n",
    "    title=\"Classification Metrics for Robot_ProtectiveStop and grip_lost\",\n",
    "    labels={\"Value\": \"Score\", \"Metric\": \"Metric\"},\n",
    "    height=500\n",
    ")\n",
    "fig.update_yaxes(range=[0, 1.1])\n",
    "fig.show()\n",
    "fig.write_html(r\"G:\\AI\\Assignment\\cobotops\\metrics_interactive.html\")\n",
    "\n",
    "# Step 6: Create radar chart\n",
    "labels = np.array(metrics)\n",
    "stats = {\n",
    "    \"Robot_ProtectiveStop (Class 0)\": [metrics_data[\"Robot_ProtectiveStop\"][\"Class 0\"][m] for m in metrics],\n",
    "    \"Robot_ProtectiveStop (Class 1)\": [metrics_data[\"Robot_ProtectiveStop\"][\"Class 1\"][m] for m in metrics],\n",
    "    \"grip_lost (Class 0)\": [metrics_data[\"grip_lost\"][\"Class 0\"][m] for m in metrics],\n",
    "    \"grip_lost (Class 1)\": [metrics_data[\"grip_lost\"][\"Class 1\"][m] for m in metrics]\n",
    "}\n",
    "\n",
    "angles = np.linspace(0, 2 * np.pi, len(metrics), endpoint=False).tolist()\n",
    "angles += angles[:1]\n",
    "\n",
    "fig, ax = plt.subplots(figsize=(8, 8), subplot_kw=dict(polar=True))\n",
    "for label, values in stats.items():\n",
    "    values = values + values[:1]\n",
    "    ax.fill(angles, values, alpha=0.25, label=label)\n",
    "    ax.plot(angles, values)\n",
    "\n",
    "ax.set_yticklabels([])\n",
    "ax.set_xticks(angles[:-1])\n",
    "ax.set_xticklabels(metrics)\n",
    "plt.title(\"Radar Chart of Classification Metrics\")\n",
    "plt.legend(loc=\"upper right\", bbox_to_anchor=(1.3, 1.1))\n",
    "plt.tight_layout()\n",
    "plt.savefig(r\"G:\\AI\\Assignment\\cobotops\\metrics_radar_chart.png\")\n",
    "plt.show()\n",
    "\n",
    "# Save metrics data to CSV\n",
    "metrics_df = pd.DataFrame({\n",
    "    \"Target\": [target for target in metrics_data for _ in range(2)],\n",
    "    \"Class\": [\"Class 0\", \"Class 1\"] * len(metrics_data),\n",
    "    \"Precision\": [metrics_data[target][cls][\"precision\"] for target in metrics_data for cls in classes],\n",
    "    \"Recall\": [metrics_data[target][cls][\"recall\"] for target in metrics_data for cls in classes],\n",
    "    \"F1-Score\": [metrics_data[target][cls][\"f1-score\"] for target in metrics_data for cls in classes],\n",
    "    \"Accuracy\": [metrics_data[target][\"accuracy\"] for target in metrics_data for _ in range(2)]\n",
    "})\n"
   ]
  },
  {
   "cell_type": "code",
   "execution_count": null,
   "id": "477d5f2e",
   "metadata": {},
   "outputs": [],
   "source": []
  }
 ],
 "metadata": {
  "kernelspec": {
   "display_name": "base",
   "language": "python",
   "name": "python3"
  },
  "language_info": {
   "codemirror_mode": {
    "name": "ipython",
    "version": 3
   },
   "file_extension": ".py",
   "mimetype": "text/x-python",
   "name": "python",
   "nbconvert_exporter": "python",
   "pygments_lexer": "ipython3",
   "version": "3.12.11"
  }
 },
 "nbformat": 4,
 "nbformat_minor": 5
}
